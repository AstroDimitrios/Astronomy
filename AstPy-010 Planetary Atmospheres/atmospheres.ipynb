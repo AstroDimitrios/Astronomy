{
 "cells": [
  {
   "cell_type": "markdown",
   "metadata": {},
   "source": [
    "Name: __________________        Class: __________________     Date: __________________"
   ]
  },
  {
   "cell_type": "markdown",
   "metadata": {},
   "source": [
    "<center>\n",
    "    <img width=\"100%\" src=\"https://raw.githubusercontent.com/astroDimitrios/AstronomyClass/master/DesignAssets/Ai/Banner3plainCut.png\" alt='AP Logo'>\n",
    "</center>\n",
    "\n",
    "# Planetary Atmospheres\n",
    "\n",
    "### AIM - Visualise the atmospheric composition of planets\n",
    "Difficulty: Medium\n",
    "\n",
    "**Predict**\n",
    "\n",
    "Have a think about these questions and make some predictions! Be sure to tell someone else what you predict.\n",
    "\n",
    "1) How do we know what the atmospheres of other planets contain?    \n",
    "2) Do all the rocky planets have similar atmospheres?     \n",
    "3) Do all planets have atmospheres?"
   ]
  },
  {
   "cell_type": "markdown",
   "metadata": {},
   "source": [
    "**Enter your predictions:**    \n",
    "1)    \n",
    "2)    \n",
    "3)    "
   ]
  },
  {
   "cell_type": "markdown",
   "metadata": {},
   "source": [
    "## Contents\n",
    "\n",
    "* [Start](#Start)\n",
    "* [Earth's Atmosphere](#EAtm)\n",
    "* [Atmospheric Retention](#AtmRetention)\n",
    "* [Challenges](#Challenges)\n",
    "* [References](#References)\n",
    "\n",
    "# Let's go: Visualising Atmospheres <a class=\"anchor\" id=\"Start\"></a>\n",
    "\n",
    "You have been provided with some data about the chemical composition of planetary atmospheres (plus Pluto!). Let's load this data now and look at what we've been given:"
   ]
  },
  {
   "cell_type": "code",
   "execution_count": null,
   "metadata": {},
   "outputs": [],
   "source": [
    "# run me\n",
    "import numpy as np\n",
    "import pandas as pd\n",
    "import matplotlib.pyplot as plt \n",
    "from IPython.display import Image"
   ]
  },
  {
   "cell_type": "code",
   "execution_count": null,
   "metadata": {},
   "outputs": [],
   "source": [
    "# run me\n",
    "file = 'atmospheres.csv'\n",
    "df = pd.read_csv(file)\n",
    "df.head()"
   ]
  },
  {
   "cell_type": "markdown",
   "metadata": {},
   "source": [
    "For each planet and Pluto we have the abundance in percent of certain chemicals, the first of which is molecular Hydrogen. The first part of this activity will focus on making comparisons between the planets with two types of plots. The first plot we will make is a bar chart showing the abundance of one chemical in the atmospheres of all the planets and Pluto. The second will show the full composition for just one planet as a stacked bar chart. \n",
    "\n",
    "Let's start with the first plot. We need to extract the row of the dataframe for the chemical we want to look at.\n",
    "<div class=\"alert alert-block alert-success\">\n",
    "Complete the code block below to extract data for water or ```'H2O'``` as it's stored in the csv:\n",
    "    </div>"
   ]
  },
  {
   "cell_type": "code",
   "execution_count": null,
   "metadata": {},
   "outputs": [],
   "source": [
    "chem_name = 'H2O'\n",
    "# Your code here:\n",
    "chem = df.loc[df['''Your code here'''] == '''Your code here'''].values[0]\n",
    "print(chem)"
   ]
  },
  {
   "cell_type": "markdown",
   "metadata": {},
   "source": [
    "Excellent! Now we have an array of values corresponding to each planet (we just need to ignore the first entry which is the chemicals name). \n",
    "<div class=\"alert alert-block alert-success\">\n",
    "Use the next code block to get the values out of the array but not the name:\n",
    "    </div>"
   ]
  },
  {
   "cell_type": "code",
   "execution_count": null,
   "metadata": {},
   "outputs": [],
   "source": [
    "# Your code here:\n",
    "vals = '''You code here'''\n",
    "vals"
   ]
  },
  {
   "cell_type": "markdown",
   "metadata": {},
   "source": [
    "Before we go any further with the plotting we need to sort out the name. If we use the string from the csv as the name it will appear as ```H2O``` on our plot. We know that it should be formatted like this: $H_{2}O$.\n",
    "\n",
    "We can achieve this by using Matplotlibs built in $\\LaTeX$ functionality. $\\LaTeX$ is a powerful typesetting tool used my most scientists to create their publications. Using $\\LaTeX$ we can format our name so that Matplotlib displays it correctly with subscript and superscript.\n",
    "\n",
    "To use $\\LaTeX$ in Matplotlib all we have to is enter maths mode inside a string we want Matpltolib to add to our figure. \n",
    "\n",
    "This is how we would get $H_{2}O$ in our string:\n",
    "\n",
    "```'$H_{2}O$'```\n",
    "\n",
    "The ```$``` sign starts the maths mode and closes it. The underscore signifies we want a subscript (```^``` will give you superscript) and the text we want in the sub/superscript is within the curly brackets.\n",
    "<div class=\"alert alert-block alert-success\">\n",
    "We are going to define a function below to take our csv string and turn it into a string like above so Matplotlib renders it using $\\LaTeX$. Using the hints complete the code block below and test it on our string:\n",
    "    </div>"
   ]
  },
  {
   "cell_type": "code",
   "execution_count": null,
   "metadata": {},
   "outputs": [],
   "source": [
    "# Fill in the blanks in this function\n",
    "def chem_names(name):\n",
    "    '''\n",
    "    Takes a chemical name and returns it as LaTex/mathsmode string\n",
    "    For labels in matplotlib\n",
    "    '''\n",
    "    # split the name string into individual characters using the list() function\n",
    "    chars = list(name)\n",
    "    # start the pretty_name variable with the $ sign for mathsmode\n",
    "    pretty_name = '''Your code here'''\n",
    "    # iterate over each character in the name\n",
    "    for i in range(len(chars)):\n",
    "        # if it's the first character and a digit you'll need superscript\n",
    "        if chars[i].isdigit() and i==0:\n",
    "            pretty_name += '^{'+chars[i]+'}'\n",
    "        # if the character is a letter just add it to pretty_name\n",
    "        elif chars[i].isalpha():\n",
    "            pretty_name += '''Your code here'''\n",
    "        # otherwise we will need to subscript the number\n",
    "        else:\n",
    "            pretty_name += '''Your code here'''\n",
    "    # close the mathsmode with another $\n",
    "    pretty_name += '''Your code here'''\n",
    "    return pretty_name\n",
    "\n",
    "# Don't change this\n",
    "name = chem_names(chem_name)\n",
    "name"
   ]
  },
  {
   "cell_type": "markdown",
   "metadata": {},
   "source": [
    "Notice it now returns a string which Matplotlib will interpret with $\\LaTeX$ and maths mode. Maths mode is very useful when you need mathematical symbols or to write equations and have them on your plot, or in your title and axis labels.\n",
    "\n",
    "Ok now let's get back to plotting. We need a list of planet names (+Pluto) so Matplotlib knows which planet the values in our ```vals``` variable are referring to.\n",
    "<div class=\"alert alert-block alert-success\">\n",
    "    Either type out the list of planet names below or get them from the header of the csv:\n",
    "    </div>"
   ]
  },
  {
   "cell_type": "code",
   "execution_count": null,
   "metadata": {},
   "outputs": [],
   "source": [
    "# Your code here:\n",
    "planets = '''Your code here - Hint: list(df) will return an array with the header'''\n",
    "planets"
   ]
  },
  {
   "cell_type": "markdown",
   "metadata": {},
   "source": [
    "<div class=\"alert alert-block alert-success\">Now you have the planet names, complete the following code block and make your first plot:</div>"
   ]
  },
  {
   "cell_type": "code",
   "execution_count": null,
   "metadata": {},
   "outputs": [],
   "source": [
    "fig = plt.figure(num=1, figsize=(10, 5))\n",
    "ax = plt.subplot(111)\n",
    "\n",
    "# fill in the ax.bar() function\n",
    "# Your code here:\n",
    "ax.bar('''Your code here (x values)''', '''Your code here (y values)''', width=0.75, color='lightskyblue')\n",
    "\n",
    "# set the y axis to use a log scale\n",
    "# Your code here:\n",
    "ax.set_yscale('''Your code here''')\n",
    "\n",
    "# This will set the y label for you. It uses maths mode!\n",
    "# the % is a special character so it is 'escaped' with a \\\n",
    "# this means it will print the percentage symbol\n",
    "# the r, for raw string, lets us include characters like ' and \" which normally would start/end a string \n",
    "ax.set_ylabel(r'$\\%$ of '+name+' in the atmosphere', labelpad=10)"
   ]
  },
  {
   "cell_type": "markdown",
   "metadata": {},
   "source": [
    "<div class=\"alert alert-block alert-info\"><p>Are there any suprises? Notice how there appears to be a region from Venus to Saturn where water is found in atmospheres. Why is that?</p>\n",
    "    \n",
    "<p>Try making a similar plot for Hydrogen (<strong>'H2'</strong> in the csv file). Which planets have large amounts of $H_2$ in their atmospheres? Are they the planets you expected? You might also like to plot a graph for the greenhouse gas $CO_2$!</p>\n",
    "</div>\n",
    "Just remember that these plots use a log scale on the y axis which makes Venus and Earth in this plot look like they have lots of water vapour in their atmospheres. In reality the value for Jupiter is 520 ppm (parts per million = 0.00001 %) and the Earth has only 1 ppm. As a challenge it might be worth adding text annotations to the bars with the actual values like in the image you can load below."
   ]
  },
  {
   "cell_type": "code",
   "execution_count": null,
   "metadata": {},
   "outputs": [],
   "source": [
    "# run me\n",
    "Image('./figures/chem_H2O_atm_planet_comp.png')"
   ]
  },
  {
   "cell_type": "markdown",
   "metadata": {},
   "source": [
    "When you're ready you can begin to make the second plot. This is a stacked bar chart; a bar chart where the bars are on top of each other. <a class=\"anchor\" id=\"EAtm\"></a>\n",
    "\n",
    "Let's look at the atmosphere of the Earth.\n",
    "\n",
    "<div class=\"alert alert-block alert-success\">Complete the code block below to select the values for the Earth where the percentage is greater than 0.01 (so we don't clutter our plot with trace gases):</div>"
   ]
  },
  {
   "cell_type": "code",
   "execution_count": null,
   "metadata": {},
   "outputs": [],
   "source": [
    "planet_name = 'Earth'\n",
    "\n",
    "# use .loc to get a new dataframe where the df['Earth'] values are greater than 0.01\n",
    "# sort these values so the highest number is first in the dataframe using .sort_values\n",
    "# if you're stuck fon't forget to consult the pandas documentation\n",
    "# Your code here:\n",
    "earth = df.loc['''Your code here''' > '''Your code here'''].sort_values(by=planet_name, ascending=False)\n",
    "\n",
    "earth"
   ]
  },
  {
   "cell_type": "markdown",
   "metadata": {},
   "source": [
    "We still have all the other planets present but we can ignore them. Look at the Earth column. We now have four components in order of decreasing abundance. \n",
    "<div class=\"alert alert-block alert-success\">\n",
    "Extract the % values for the Earth (from the Earth column) and the chemical names so we can plot them:</div>"
   ]
  },
  {
   "cell_type": "code",
   "execution_count": null,
   "metadata": {},
   "outputs": [],
   "source": [
    "# extract the % values to earthVals and the Chemical names to earthChems\n",
    "# Your code here:\n",
    "earthVals = '''Your code here'''\n",
    "print(earthVals)\n",
    "\n",
    "earthChems = '''Your code here'''\n",
    "print(earthChems)"
   ]
  },
  {
   "cell_type": "markdown",
   "metadata": {},
   "source": [
    "<div class=\"alert alert-block alert-success\">Now for each string in the <strong>earthChems</strong> array pass it to the <strong>chem_names()</strong> function so that they're ready for Matplotlib to render with $\\LaTeX$:</div>"
   ]
  },
  {
   "cell_type": "code",
   "execution_count": null,
   "metadata": {},
   "outputs": [],
   "source": [
    "# Your code here:\n",
    "earthChemNames = [chem_names(name) for '''Your code here''' in '''Your code here''']\n",
    "earthChemNames"
   ]
  },
  {
   "cell_type": "markdown",
   "metadata": {},
   "source": [
    "Great. All that's left is to:\n",
    "<div class=\"alert alert-block alert-success\">\n",
    "Complete the following code block to make your stacked bar chart:</div>"
   ]
  },
  {
   "cell_type": "code",
   "execution_count": null,
   "metadata": {},
   "outputs": [],
   "source": [
    "# use this dictionary to give each chemical a unique color\n",
    "colors = {\n",
    "    'N2': '#3489AC',\n",
    "    'O2': '#92AE33',\n",
    "    'Ar': '#D06D6D',\n",
    "    'CO2': '#B34A17',\n",
    "    'Na': '#979695',\n",
    "    'H2': '#4462AB',\n",
    "    '4He': '#D7880A',\n",
    "    'CH4': '#D1BB3F',\n",
    "    'SO2': 'maroon',\n",
    "    'GeH4': 'sandybrown',\n",
    "    'HD': 'mediumseagreen',\n",
    "    'H2O': 'lightskyblue',\n",
    "    'CO': 'peru',\n",
    "    'Other': '#B3947E'\n",
    "}\n",
    "\n",
    "# setup the figure and axes\n",
    "fig = plt.figure(num=1, figsize=(6,10))\n",
    "ax = plt.subplot(111)\n",
    "\n",
    "# we need to loop over all the chemicals plotting one bar at a time, stacking it on the last one\n",
    "for i in range(len(earth)):\n",
    "    # to stack we need the y value (we have called it bot) where the previous bar ends\n",
    "    # for the first bar the y value is just 0\n",
    "    if i==0:\n",
    "        bot = '''Your code here'''\n",
    "    # otherwise we need the sum of the earthVals array up to this chemical at index i (but don't include it in the sum)\n",
    "    else:\n",
    "        bot = '''Your code here - sum all earthVals up to index i using np.sum()'''\n",
    "    thisbar = ax.bar(['Earth'], [earthVals[i]], 1, label=earthChemNames[i], bottom=bot, alpha=0.8, color=colors[earthChems[i]])  \n",
    "\n",
    "ax.legend()"
   ]
  },
  {
   "cell_type": "markdown",
   "metadata": {},
   "source": [
    "The amount of $CO_2$ is so small it is very hard to see on our plot! Try and tidy up the plot. Here are a few suggestions:\n",
    "\n",
    "- Remove the top and right hand side spines (axes have 4 spines top, bottom, left, and right to form the black bounding box you see!)   \n",
    "- Move the legend to the right of the plot so it's not on the bar chart   \n",
    "- Remove the frame on the legend  \n",
    "- Reverse the legend entries so that they're in the same order as the bars appear  \n",
    "- Annotate the chart with the actual values  \n",
    "\n",
    "Doing even one of these will make your chart more readable. \n",
    "\n",
    "<div class=\"alert alert-block alert-success\">Compare the chart with no improvements to the following image you can load. What about it makes it more readable?</div>"
   ]
  },
  {
   "cell_type": "code",
   "execution_count": null,
   "metadata": {},
   "outputs": [],
   "source": [
    "# run me\n",
    "Image('./figures/Earths_Atm_comp.png')"
   ]
  },
  {
   "cell_type": "markdown",
   "metadata": {},
   "source": [
    "Try making some of these stacked bar chart plots for the other planets. Are there any planets with similar atmospheres? Any odd ones out?\n",
    "\n",
    "How do the compositions of the gas giants compare to that of the sun? Often abundace values for these planets are given relative to the sun (or the composition of the solar nebula from which the solar system formed). If you're interested take a look at this book chapter on [The Composition of the Atmosphere of Jupiter](https://lasp.colorado.edu/home/mop/files/2015/08/jupiter_ch4-1.pdf).\n",
    "\n",
    "## Atmospheric Retention <a class=\"anchor\" id=\"AtmRetention\"></a>\n",
    "\n",
    "The planets are slowly loosing their atmospheres!!!!! Oh no! This actually happens very very slowly. Atmospheres can be blown away by the solar wind, removed by interactions with charged particles, or ejected in a collision (see Peter Gallagher's Planetary Atmospheres lecture pdf [here](https://www.tcd.ie/Physics/people/Peter.Gallagher/lectures/PY4A03/pdfs/PY4A03_lecture12n13_amospheres.ppt.pdf) for more ways a planet can loose its atmosphere and a mathematical description of the loss rate).\n",
    "\n",
    "The gases in our atmosphere have a temperature which is associated to the motion of each gas particle/molecule. The hotter a gas the faster it moves! The thermal energy of a gas particle/molecule is given by\n",
    "\n",
    "$$E_{thermal} = \\frac{3}{2}kT$$\n",
    "\n",
    "where $T$ is the temperature in Kelvin and $k$ is the Botlzman constant. If we remember the equation for kinetic energy:\n",
    "\n",
    "$$E_{kinetic} = \\frac{1}{2}mv_{avg}^2$$\n",
    "\n",
    "then we can equate $E_{kinetic}$ and $E_{thermal}$ to get an equation linking temperature and the average speed of a gas particle. Re-arrange a bit and we end up with:\n",
    "\n",
    "$$v_{avg} = \\left(\\frac{3kT}{m}\\right)^{0.5}$$\n",
    "\n",
    "How does this link to atmospheric retention? If the particles are moving really fast they could be able to escape the gravitational pull of the planet.\n",
    "\n",
    "If the average velocity of a particle is greater than one sixth the escape velocity of the planet then it can escape into space. The escape velocity is the velocity needed to escape the gravitational influence of the planet/object. On Earth this value is around $11.2\\ km/s$!\n",
    "\n",
    "Let's consider the Earth and see whether the gases $H_2$ and $H_2O$ can escape.\n",
    "\n",
    "<div class=\"alert alert-block alert-success\">Complete the code block below to work out $v_{avg}$ for both gases:</div>"
   ]
  },
  {
   "cell_type": "code",
   "execution_count": null,
   "metadata": {},
   "outputs": [],
   "source": [
    "# masses of a gas particle in u (notice the H is timesed by 2 since it's diatomic)\n",
    "u = 1.6605390666050*10**(-27) # kg\n",
    "m1H2 = 1.007825*2*u # kg\n",
    "mH2O = (18/10**3)/(6.022137*10**(23)) # kg (g/mol / g/kg / Na) - Na is avogadro's number\n",
    "\n",
    "T = 1000 # K - the temp at the top of the Earth's exosphere\n",
    "k = 1.38064852*10**(-23) # m^2kgs^-2K-1\n",
    "\n",
    "# calculate v avg for H20 below and convert to km/s\n",
    "# Your code here:\n",
    "vH = (3*k*T/m1H2)**.5 / 1000\n",
    "vH2O = '''Your code here - Hint: Look at the line above for Hydrogen'''\n",
    "\n",
    "print('One sixth of Earths escape velocity = {:.1f} km/s'.format(11.2/6))\n",
    "print('v avg for Hydrogen = {:.1f} km/s'.format(vH))\n",
    "print('v avg for Water vapour = {:.1f} km/s'.format(vH2O))"
   ]
  },
  {
   "cell_type": "markdown",
   "metadata": {},
   "source": [
    "Notice the average velocity for Hydrogen is greater than one sixth of the Earth's escape velocity so any Hydrogen gas on the Earth will escape into space. On the other hand water vapour has a lower velocity so it won't escape. Now load the image below:"
   ]
  },
  {
   "cell_type": "code",
   "execution_count": null,
   "metadata": {},
   "outputs": [],
   "source": [
    "# run me\n",
    "Image('./figures/atm_retention.png')"
   ]
  },
  {
   "cell_type": "markdown",
   "metadata": {},
   "source": [
    "This figure shows five gases and whether the planets can hold onto them or whether they will escape. If a gas line lies above the planet for the same temperature then it will escape into space. Notice all the gas giants are large enough to hold onto the lightest gas Hydrogen.\n",
    "\n",
    "Be sure to check out [this page](https://www.vanderbilt.edu/AnS/physics/astrocourses/ast201/esc_vel_atmospheres.html) by David A. Weintraub for more detail on retention and capture of gas when the planets were forming.\n",
    "\n",
    "## How do we know what other planets atmospheres are like?\n",
    "\n",
    "In some cases we have been there! Either in person, the Moon, or we sent rovers, Mars and Venus, and loads of satellites! These satellites can measure particles from the atmosphere as they are lost to space, look at the absorption and emission spectra of the atmospheres (some Earth based telescopes can do this by looking at how sunlight is absorbed by the planets atmosphere), or in the case of the Galileo spacecraft send down a probe into the atmosphere of the planet!!! (see [here](https://agupubs.onlinelibrary.wiley.com/doi/abs/10.1029/98JE01766) for more on the Galileo probe)\n",
    "\n",
    "# Challenges <a class=\"anchor\" id=\"Challenges\"></a>\n",
    "\n",
    "1) Tidy up your plots to make them more readable.  \n",
    "2) Find data for the Galilean moons and perhaps also Titan (Saturn's moon). What are their atmospheres made of?  \n",
    "3) Calculate the lightest gas particle which can remain in Mercurys atmosphere.\n",
    "\n",
    "# References <a class=\"anchor\" id=\"References\"></a>\n",
    "\n",
    "Downloaded references are now on my Google Drive [here](https://drive.google.com/drive/folders/1Tw07bSwSy3jiT3fWibMwiLyCP3xbZCgN?usp=sharing) due to their size.\n",
    "\n",
    "Data from:  \n",
    "Rauf KM et al. (2015) Comparing the Atmospheric Compositions of All Planets and Giant Moons in Solar System [https://www.longdom.org/open-access/comparing-the-atmospheric-compositions-of-all-planets-and-giant-moons-in-solar-system-2332-2519-1000136.pdf](https://www.longdom.org/open-access/comparing-the-atmospheric-compositions-of-all-planets-and-giant-moons-in-solar-system-2332-2519-1000136.pdf)  \n",
    "\n",
    "Exobase data from:  \n",
    "A. Garcia Munoz et al - Upper Atmospheres and Ionospheres of Planets and Satellites [https://arxiv.org/ftp/arxiv/papers/1712/1712.02994.pdf](https://arxiv.org/ftp/arxiv/papers/1712/1712.02994.pdf)\n",
    "\n",
    "Galileo Probe:  \n",
    "Alvin Seiff et al. (1998) Thermal structure of Jupiter's atmosphere near the edge of a 5‐μm hot spot in the north equatorial belt [https://agupubs.onlinelibrary.wiley.com/doi/abs/10.1029/98JE01766](https://agupubs.onlinelibrary.wiley.com/doi/abs/10.1029/98JE01766)\n",
    "\n",
    "Further Reading:  \n",
    "The Composition of the Atmosphere of Jupiter [https://lasp.colorado.edu/home/mop/files/2015/08/jupiter_ch4-1.pdf](https://lasp.colorado.edu/home/mop/files/2015/08/jupiter_ch4-1.pdf)  \n",
    "David A. Weintraub - Escape Velocity [https://www.vanderbilt.edu/AnS/physics/astrocourses/ast201/esc_vel_atmospheres.html](https://www.vanderbilt.edu/AnS/physics/astrocourses/ast201/esc_vel_atmospheres.html)  \n",
    "Peter Gallagher - Planetary Atmospheres [https://www.tcd.ie/Physics/people/Peter.Gallagher/lectures/PY4A03/pdfs/PY4A03_lecture12n13_amospheres.ppt.pdf](https://www.tcd.ie/Physics/people/Peter.Gallagher/lectures/PY4A03/pdfs/PY4A03_lecture12n13_amospheres.ppt.pdf)  \n",
    "A. J. Coates - Atmospheric escape [https://sci.esa.int/documents/33745/35957/1567258799920-Weihai-093-Coates-escape.pdf](https://sci.esa.int/documents/33745/35957/1567258799920-Weihai-093-Coates-escape.pdf)  \n",
    "Catling and Zahnle (2009) The escape of planetary atmospheres [https://geosci.uchicago.edu/~kite/doc/Catling2009.pdf](https://geosci.uchicago.edu/~kite/doc/Catling2009.pdf)  \n",
    "Nick Strobel (2020) Escape Velcoity [http://www.astronomynotes.com/solarsys/s3.htm](http://www.astronomynotes.com/solarsys/s3.htm)\n",
    "\n",
    "## Sharing\n",
    "\n",
    "If you share, use or modify this activity in any way use the citation in this [txt file](https://github.com/astroDimitrios/Astronomy/blob/master/CITATION.txt).    \n",
    "Please contact me at astrodimitrios@gmail.com with any suggestions, mistakes found, or general questions about teaching astronomy with Python.\n",
    "\n",
    "© Dimitrios Theodorakis GNU General Public License v3.0 https://github.com/astroDimitrios/Astronomy "
   ]
  }
 ],
 "metadata": {
  "kernelspec": {
   "display_name": "Python 3",
   "language": "python",
   "name": "python3"
  },
  "language_info": {
   "codemirror_mode": {
    "name": "ipython",
    "version": 3
   },
   "file_extension": ".py",
   "mimetype": "text/x-python",
   "name": "python",
   "nbconvert_exporter": "python",
   "pygments_lexer": "ipython3",
   "version": "3.6.13"
  }
 },
 "nbformat": 4,
 "nbformat_minor": 4
}
