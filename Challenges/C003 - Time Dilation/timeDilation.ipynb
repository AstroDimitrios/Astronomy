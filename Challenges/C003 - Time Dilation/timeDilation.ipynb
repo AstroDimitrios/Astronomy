{
 "cells": [
  {
   "cell_type": "markdown",
   "metadata": {},
   "source": [
    "<center>\n",
    "    <img width=\"100%\" src=\"https://raw.githubusercontent.com/astroDimitrios/AstronomyClass/master/DesignAssets/Ai/Banner3plainCut.png\" alt='AP Logo'>\n",
    "</center>\n",
    "\n",
    "# Challenge Autumn 2020\n",
    "\n",
    "### How much older would you be if you stayed on Earth instead of travelling to Alpha Centauri at a) warp 5? or b) sublight speed?\n",
    "\n",
    "#### Warp Speed\n",
    "\n",
    "The Star Trek warp drives are based on the Alcubierre drive. This drive shifts the space around it to move the ship. You can see this in the image below from [medium](https://medium.com/futuresin/constructing-an-alcubierre-warp-drive-373b37eb83b0). The space infront of the ship is contracted whereas the space behind the ship is expanded.\n",
    "\n",
    "<img src=\"https://miro.medium.com/max/1400/0*daOkapqJcIlLbbu5.jpg\">\n",
    "\n",
    "Since the ship itself is not moving (space is moving) the ship is supposedly in a bubble of normal space-time so at warp you would experience no time dilation!\n",
    "\n",
    "#### Sublight Speed\n",
    "\n",
    "Here you would experience time dilation! We are going to assume that your ship can travel at $0.5c$ or half the speed of light.\n",
    "\n",
    "Let's start by importing NumPy:"
   ]
  },
  {
   "cell_type": "code",
   "execution_count": 1,
   "metadata": {},
   "outputs": [],
   "source": [
    "import numpy as np"
   ]
  },
  {
   "cell_type": "markdown",
   "metadata": {},
   "source": [
    "To work out the time difference between you and someone that stayed on Earth we have to use this equation for time dilation:\n",
    "\n",
    "$$\\Delta t' = \\gamma\\Delta t = \\frac{\\Delta t}{\\sqrt{1-\\frac{v^2}{c^2}}}$$\n",
    "\n",
    "Here $\\Delta t$ is the time we take to travel to Alpha Centauri, $\\Delta t'$ is the time someone on Earth experiences while we are travelling, $\\gamma$ is the Lorentz factor, $v$ is the velocity we are travelling with, and $c$ is the speed of light.\n",
    "\n",
    "We can start by calculating the Lorentz factor $\\gamma$ for out speed of $0.5c$. Notice if we use our velocity in terms of $c$ in the equation we can ignore the $c^2$ term on the denominator in the square root."
   ]
  },
  {
   "cell_type": "code",
   "execution_count": 2,
   "metadata": {},
   "outputs": [],
   "source": [
    "def Lorentz(v):\n",
    "    # takes a relative velocity in terms of c\n",
    "    # returns the Lorentz factor gamma (unitless)\n",
    "    gamma = 1/(np.sqrt(1-v**2))\n",
    "    return gamma"
   ]
  },
  {
   "cell_type": "code",
   "execution_count": 3,
   "metadata": {},
   "outputs": [
    {
     "data": {
      "text/plain": [
       "1.1547005383792517"
      ]
     },
     "execution_count": 3,
     "metadata": {},
     "output_type": "execute_result"
    }
   ],
   "source": [
    "lf = Lorentz(0.5)\n",
    "lf"
   ]
  },
  {
   "cell_type": "markdown",
   "metadata": {},
   "source": [
    "Now we need to know the time it took us to reach Alpha Centauri. Assuming a straight path we will travel $4.37\\ ly$! We can use this distance and our speed to work out the time ```t``` to Alpha Centauri."
   ]
  },
  {
   "cell_type": "code",
   "execution_count": 4,
   "metadata": {},
   "outputs": [
    {
     "data": {
      "text/plain": [
       "4.13402e+16"
      ]
     },
     "execution_count": 4,
     "metadata": {},
     "output_type": "execute_result"
    }
   ],
   "source": [
    "d = 4.37 # ly\n",
    "# convert to m\n",
    "d = d*9.46*10**15 # m\n",
    "d"
   ]
  },
  {
   "cell_type": "code",
   "execution_count": 5,
   "metadata": {},
   "outputs": [
    {
     "data": {
      "text/plain": [
       "275792128.1662129"
      ]
     },
     "execution_count": 5,
     "metadata": {},
     "output_type": "execute_result"
    }
   ],
   "source": [
    "c = 299792458 # m/s\n",
    "# time = distance / speed\n",
    "t = d/(.5*c) # s\n",
    "t"
   ]
  },
  {
   "cell_type": "markdown",
   "metadata": {},
   "source": [
    "To make the output easier to read I've added the function ```toYears()``` which takes a time in seconds and converts it to years."
   ]
  },
  {
   "cell_type": "code",
   "execution_count": 6,
   "metadata": {},
   "outputs": [],
   "source": [
    "def toYears(t):\n",
    "    # takes the time t in SECONDS and converts it to YEARS\n",
    "    return t/60/60/24/365.25"
   ]
  },
  {
   "cell_type": "code",
   "execution_count": 7,
   "metadata": {},
   "outputs": [
    {
     "data": {
      "text/plain": [
       "8.739325175748883"
      ]
     },
     "execution_count": 7,
     "metadata": {},
     "output_type": "execute_result"
    }
   ],
   "source": [
    "tyears = toYears(t)\n",
    "tyears"
   ]
  },
  {
   "cell_type": "markdown",
   "metadata": {},
   "source": [
    "Now we can work out $\\Delta t'$ which I have called ```dt``` in my code."
   ]
  },
  {
   "cell_type": "code",
   "execution_count": 8,
   "metadata": {},
   "outputs": [
    {
     "data": {
      "text/plain": [
       "318457318.87428564"
      ]
     },
     "execution_count": 8,
     "metadata": {},
     "output_type": "execute_result"
    }
   ],
   "source": [
    "dt = lf*t\n",
    "dt"
   ]
  },
  {
   "cell_type": "code",
   "execution_count": 9,
   "metadata": {},
   "outputs": [
    {
     "data": {
      "text/plain": [
       "10.091303485508583"
      ]
     },
     "execution_count": 9,
     "metadata": {},
     "output_type": "execute_result"
    }
   ],
   "source": [
    "dtyears = toYears(dt)\n",
    "dtyears"
   ]
  },
  {
   "cell_type": "markdown",
   "metadata": {},
   "source": [
    "Now we just need to know what the difference between those two times are:"
   ]
  },
  {
   "cell_type": "code",
   "execution_count": 10,
   "metadata": {},
   "outputs": [
    {
     "data": {
      "text/plain": [
       "1.352"
      ]
     },
     "execution_count": 10,
     "metadata": {},
     "output_type": "execute_result"
    }
   ],
   "source": [
    "round(dtyears-tyears, 3)"
   ]
  },
  {
   "cell_type": "markdown",
   "metadata": {},
   "source": [
    "So if you stay on Earth you are $\\approx1.352$ years older than someone that has just arrived at Alpha Centauri!\n",
    "\n",
    "In practice it will be a long time before we achieve such fast speeds. \n",
    "We have also ignored any effects due to gravitational time dilation although because we are travelling fast through empty space I think it's safe to ignore it.\n",
    "\n",
    "If you want to take this further see how the Lorentz factor changes with $v$ by making some plots.\n",
    "\n",
    "## Sharing\n",
    "\n",
    "If you share, use or modify this activity in any way use the citation in this [txt file](https://github.com/astroDimitrios/Astronomy/blob/master/CITATION.txt).    \n",
    "Please contact me at astrodimitrios@gmail.com with any suggestions, mistakes found, or general questions about teaching astronomy with Python.\n",
    "\n",
    "© Dimitrios Theodorakis GNU General Public License v3.0 https://github.com/astroDimitrios/Astronomy "
   ]
  }
 ],
 "metadata": {
  "kernelspec": {
   "display_name": "Python 3",
   "language": "python",
   "name": "python3"
  },
  "language_info": {
   "codemirror_mode": {
    "name": "ipython",
    "version": 3
   },
   "file_extension": ".py",
   "mimetype": "text/x-python",
   "name": "python",
   "nbconvert_exporter": "python",
   "pygments_lexer": "ipython3",
   "version": "3.6.13"
  }
 },
 "nbformat": 4,
 "nbformat_minor": 4
}
