{
 "cells": [
  {
   "cell_type": "markdown",
   "id": "487a5115-a944-47ec-a2a4-7acb57851286",
   "metadata": {},
   "source": [
    "Name: __________________        Class: __________________     Date: __________________"
   ]
  },
  {
   "cell_type": "markdown",
   "id": "1bfd7dac-bb5f-439d-b87d-f0e44add1063",
   "metadata": {},
   "source": [
    "<center>\n",
    "    <img width=\"100%\" src=\"https://raw.githubusercontent.com/astroDimitrios/AstronomyClass/master/DesignAssets/Ai/Banner3plainCut.png\" alt='AP Logo'>\n",
    "</center>\n",
    "\n",
    "# Team Seas - River Pollution\n",
    "\n",
    "### AIM - To analyse plastic discharge by rivers using data from the Ocean Cleanup Project\n",
    "Difficulty: Easy\n",
    "\n",
    "## Start:\n",
    "\n",
    "This activity is inspired by the work of the [Ocean Cleanup Project](https://theoceancleanup.com/) and #TeamSeas started by YouTubers [MrBeast](https://www.youtube.com/watch?v=cV2gBU6hKfY) and [Mark Rober](https://www.youtube.com/watch?v=pXDx6DjNLDU). It uses data from Meijer L. J. J. et al., 2021, *Sci. Adv.*, More than 1000 rivers account for 80% of global riverine plastic emissions into the ocean, DOI: [10.1126/sciadv.aaz5803](10.1126/sciadv.aaz5803) which is provided [here](https://figshare.com/articles/dataset/Supplementary_data_for_More_than_1000_rivers_account_for_80_of_global_riverine_plsatic_emissions_into_the_ocean_/14515590) and has been downloaded into the Meijer2021_midpoint_emissions directory for this activity.\n",
    "\n",
    "Explore the Ocean Cleanup Projects' interactive map version of this data on their website [here](https://theoceancleanup.com/sources/).\n",
    "\n",
    "You can see the full #TeamSeas campaign to remove plastic from the Ocean [here](https://teamseas.org/) (I am in no way affiliated with any campaigns or organisations listed above).\n",
    "\n",
    "## Contents\n",
    "\n",
    "* [Start](#Start)\n",
    "* [Exploring with GeoPandas](#BuiltIn)\n",
    "* [Plotting 100 Worst Pollutors](#100Worst)\n",
    "* [Pollution by Country](#Country)\n",
    "* [Local River Data](#Local)\n",
    "* [Your Local Rivers](#YourLocal)\n",
    "* [Over to You](#OTY)\n",
    "* [References](#REF)\n",
    "* [Acknowledgements](#ACK)\n",
    "\n",
    "\n",
    "## Let's Go: <a class=\"anchor\" id=\"Start\"></a>\n",
    "\n",
    "We are going to explore this river pollution dataset using **[GeoPandas](https://geopandas.org/en/stable/)**. GeoPandas is built on Pandas and allows us to work with geospatial data.\n",
    "\n",
    "You will need to have **GeoPandas**, **[contextily](https://contextily.readthedocs.io/en/latest/)**, **matplotlib + ipywidgets**, and **[adjustText](https://github.com/Phlya/adjustText)** installed to run all the code."
   ]
  },
  {
   "cell_type": "code",
   "execution_count": null,
   "id": "forbidden-clinton",
   "metadata": {},
   "outputs": [],
   "source": [
    "# run me\n",
    "import geopandas as gpd\n",
    "import matplotlib.pyplot as plt\n",
    "import contextily as cx\n",
    "\n",
    "from geopandas.tools import sjoin\n",
    "from numpy import log\n",
    "from adjustText import adjust_text\n",
    "\n",
    "%matplotlib widget"
   ]
  },
  {
   "cell_type": "markdown",
   "id": "702fb0f1-ba8c-4f65-9890-a2b90646f9fd",
   "metadata": {},
   "source": [
    "We can use GeoPandas to read in the special shapefile which contains our geospatial data. Go ahead and run the next code cell."
   ]
  },
  {
   "cell_type": "code",
   "execution_count": null,
   "id": "clinical-myrtle",
   "metadata": {},
   "outputs": [],
   "source": [
    "# run me\n",
    "rivers = gpd.read_file(\"./Meijer2021_midpoint_emissions/Meijer2021_midpoint_emissions.shp\")"
   ]
  },
  {
   "cell_type": "markdown",
   "id": "d9039f05-7b4b-4524-92f9-be5bb451cda2",
   "metadata": {},
   "source": [
    "Let's look and see how many rivers are in the dataset using ```.shape```."
   ]
  },
  {
   "cell_type": "code",
   "execution_count": null,
   "id": "1469fad4-76d6-44f4-b9c4-13ed93496cc5",
   "metadata": {},
   "outputs": [],
   "source": [
    "# run me\n",
    "rivers.shape"
   ]
  },
  {
   "cell_type": "markdown",
   "id": "8c3a5467-563d-4be1-b2ae-0279d3fe9331",
   "metadata": {},
   "source": [
    "There are 31,819 rivers included in this dataset! Let's look at the first 5 rows using ```.head()```."
   ]
  },
  {
   "cell_type": "code",
   "execution_count": null,
   "id": "upper-alfred",
   "metadata": {},
   "outputs": [],
   "source": [
    "# run me\n",
    "rivers.head()"
   ]
  },
  {
   "cell_type": "markdown",
   "id": "b7d23036-4942-4665-a522-a1b5234e0f5d",
   "metadata": {},
   "source": [
    "The **dots_exten** column tells us the total annual plastic emissions in metric tons and the **geometry** column contains the POINTs showing the locations of all the rivers.\n",
    "\n",
    "It would be good to know the maximum and minimum values of **dots_exten**. Use the next two code cells to print out the *min* and *max* values. Treat ```rivers``` as a normal Pandas DataFrame."
   ]
  },
  {
   "cell_type": "code",
   "execution_count": null,
   "id": "c234d1b0-bfdf-4c54-bc21-3e54290650f5",
   "metadata": {},
   "outputs": [],
   "source": [
    "# print out the min dots_exten value\n",
    "'''Your code here'''"
   ]
  },
  {
   "cell_type": "code",
   "execution_count": null,
   "id": "43bffbbd-6ede-49b9-b8ad-5f08ae346f53",
   "metadata": {},
   "outputs": [],
   "source": [
    "# print out the max dots_exten value\n",
    "'''Your code here'''"
   ]
  },
  {
   "cell_type": "markdown",
   "id": "83a1f45c-0689-4dc0-9c35-f59b64ba557a",
   "metadata": {},
   "source": [
    "At least one river in the dataset has no or close to $0\\ T$ of plastic pollution.     \n",
    "On the other hand the max polluting river is emitting $62,591.9\\ T$ of plastic each year!\n",
    "\n",
    "Before we move on we should know which Coordinate Reference System (CRS) the data is stored in. Run the code below."
   ]
  },
  {
   "cell_type": "code",
   "execution_count": null,
   "id": "signed-brake",
   "metadata": {},
   "outputs": [],
   "source": [
    "# run me\n",
    "rivers.crs"
   ]
  },
  {
   "cell_type": "markdown",
   "id": "fba89e03-0489-408d-8540-95fba3732f2b",
   "metadata": {},
   "source": [
    "The CRS is WGS 84 which is the latitude longitude projection. More info on reference systems can be found [here](https://geopandas.org/en/stable/docs/user_guide/projections.html).\n",
    "\n",
    "## Exploring with GeoPandas <a class=\"anchor\" id=\"BuiltIn\"></a>\n",
    "\n",
    "There are two easy tools which we can use to visualise this dataset.\n",
    "The first is calling ```.plot()``` on our GeoPandas dataset. This will plot all the river points using Matplotlib.\n",
    "\n",
    "Run the code below to see the figure."
   ]
  },
  {
   "cell_type": "code",
   "execution_count": null,
   "id": "irish-canal",
   "metadata": {},
   "outputs": [],
   "source": [
    "# run me\n",
    "rivers.plot(column='dots_exten')"
   ]
  },
  {
   "cell_type": "markdown",
   "id": "1b4107fc-fc32-4a06-84b2-6827ef6ea609",
   "metadata": {},
   "source": [
    "This is great to quickly visualise the data but it looks terrible and has no scale/colourbar!\n",
    "\n",
    "We can use ```.explore()``` to create an interactive figure of our data.     \n",
    "This figure may be slow to repond to hover/panning etc. since the dataset is so large!"
   ]
  },
  {
   "cell_type": "code",
   "execution_count": null,
   "id": "25e6e70d-12fc-4016-93a6-cd81ed6afc2b",
   "metadata": {},
   "outputs": [],
   "source": [
    "# run me\n",
    "rivers.explore()"
   ]
  },
  {
   "cell_type": "markdown",
   "id": "d04a2a5c-67bd-4cb7-8a7b-633de89c910f",
   "metadata": {},
   "source": [
    "If you feel later on that the figure above is slowing the notebook down restart the kernel and skip the cell above when re-running the previous code.\n",
    "\n",
    "## Plotting 100 Worst Pollutors <a class=\"anchor\" id=\"100Worst\"></a>\n",
    "\n",
    "We are going to build our own plot where we can highlight certain rivers.\n",
    "\n",
    "Let's say we want the 100 largest polluting rivers.\n",
    "Complete the code below to select those rivers."
   ]
  },
  {
   "cell_type": "code",
   "execution_count": null,
   "id": "443bbcc0-9a56-4ffa-acef-449dbf825c40",
   "metadata": {},
   "outputs": [],
   "source": [
    "# Hint: the dots_exten column gives the amount of pollution\n",
    "big_rivers = rivers.sort_values(by=['''Your code here'''], ascending='''Your code here''').head('''Your code here''')\n",
    "big_rivers"
   ]
  },
  {
   "cell_type": "markdown",
   "id": "29ec1758-b18b-4970-bc15-a6e23648990d",
   "metadata": {},
   "source": [
    "Now let's see what percentage of the total plastic emission is from just those rivers."
   ]
  },
  {
   "cell_type": "code",
   "execution_count": null,
   "id": "d0997cb2-d464-4b39-b1a9-71d3e2b563ca",
   "metadata": {},
   "outputs": [],
   "source": [
    "# calcualte the sum of dots_exten for rivers then big_rivers\n",
    "total = '''Your code here'''\n",
    "big_total = '''Your code here'''\n",
    "\n",
    "# print out the % of the total pollution from just the big_rivers\n",
    "print(f'{'''Your code here''':.1%}')"
   ]
  },
  {
   "cell_type": "markdown",
   "id": "cd22d7f7-76ac-4ee2-a4bc-184d05c9895a",
   "metadata": {},
   "source": [
    "Wow such a large percentage from so few rivers. Let's plot these on a new figure alongside all rivers.\n",
    "\n",
    "The following code assigns sizes to river points based off their pollution values."
   ]
  },
  {
   "cell_type": "code",
   "execution_count": null,
   "id": "390c3eb7-f6f2-4be5-9b01-e6300269358d",
   "metadata": {},
   "outputs": [],
   "source": [
    "# run me\n",
    "sizes = log(rivers['dots_exten']+1)*20      # sizes for all rivers\n",
    "big_sizes = big_rivers['dots_exten']/25     # sizes for big rivers"
   ]
  },
  {
   "cell_type": "markdown",
   "id": "445598db-274b-4b7b-835e-8961025ae36d",
   "metadata": {},
   "source": [
    "We can add a continent basemap under our data by loading in the natural Earth dataset from GeoPandas."
   ]
  },
  {
   "cell_type": "code",
   "execution_count": null,
   "id": "1af90e3f-82d4-4b42-893f-7489e3770c3c",
   "metadata": {},
   "outputs": [],
   "source": [
    "# run me\n",
    "world = gpd.read_file(gpd.datasets.get_path('naturalearth_lowres'))\n",
    "world"
   ]
  },
  {
   "cell_type": "markdown",
   "id": "37032d7f-c4e0-43c1-bf04-475fc5f61f54",
   "metadata": {},
   "source": [
    "Now all we have to do is set up our plot.\n",
    "Complete the code below to also plot the ```big_rivers``` data just like is shown for ```rivers```.\n",
    "<div class=\"alert alert-block alert-success\">\n",
    "    \n",
    "- Plot the ```big_rivers``` data\n",
    "- Make sure the markers are a different colour\n",
    "- Use the ```big_sizes``` array for the markersize\n",
    "- Use a higher alpha value so they are more visible</div>"
   ]
  },
  {
   "cell_type": "code",
   "execution_count": null,
   "id": "76b1e42e-80a0-4788-9563-2917fbd2aa41",
   "metadata": {},
   "outputs": [],
   "source": [
    "# run me\n",
    "cont_colour = '#F2EFE8'     # continent colour\n",
    "ocean_colour = '#ABD3DF'    # ocean colour  \n",
    "\n",
    "fig, ax = plt.subplots(figsize=(12,6))\n",
    "\n",
    "# facecolour is the ocean!\n",
    "fig.set_facecolor(ocean_colour)\n",
    "# add continents basemap\n",
    "world.plot(ax=ax, color=cont_colour, edgecolor=cont_colour)\n",
    "\n",
    "rivers.plot(ax=ax, marker='o', color='#3289FD', markersize=sizes, alpha=.02)\n",
    "big_rivers.plot(ax=ax, marker='o', color='#FF7700', markersize=big_sizes, alpha=.2)\n",
    "\n",
    "ax.set_aspect('equal')\n",
    "ax.set_axis_off()"
   ]
  },
  {
   "cell_type": "markdown",
   "id": "b954edf1-3be5-4a76-9b52-43b3c9cc4ebc",
   "metadata": {},
   "source": [
    "If you're happy with this figure save it using the code cell below.     \n",
    "Change the name to something meaningful!"
   ]
  },
  {
   "cell_type": "code",
   "execution_count": null,
   "id": "3aba8294-06ad-432e-8193-dbe4bcbae836",
   "metadata": {},
   "outputs": [],
   "source": [
    "plt.savefig('./your_filename.jpg', dpi=200, bbox_inches='tight', pad_inches = 0)"
   ]
  },
  {
   "cell_type": "markdown",
   "id": "37d291f1-9b0a-45e7-993e-0e951fff9a07",
   "metadata": {},
   "source": [
    "## Pollution by Country <a class=\"anchor\" id=\"Country\"></a>\n",
    "\n",
    "So far we have plotted all the rivers and the biggest 100. What about the countries that are the biggest polluters?\n",
    "\n",
    "To get this data and plot it we will have to merge our ```rivers``` DataFrame with the ```world``` DataFrame which contains contry info.\n",
    "\n",
    "Use the ```sjoin(df1, df2, how='right')``` function to join these two datasets into a new ```river_country``` DataFrame below:"
   ]
  },
  {
   "cell_type": "code",
   "execution_count": null,
   "id": "6190064e-5452-422d-8ef3-1ad405254417",
   "metadata": {},
   "outputs": [],
   "source": [
    "# join right will keep the geometry column from the world DataFrame\n",
    "river_country = sjoin('''Your code here''', '''Your code here''', how='right')\n",
    "river_country"
   ]
  },
  {
   "cell_type": "markdown",
   "id": "d55e5469-7025-40a3-8ee4-d98c03107911",
   "metadata": {},
   "source": [
    "Now each river has an associated country in the ```'name'``` column.\n",
    "We can use the ```.grouby()``` function to keep only the ```'name', 'continent', 'pop_est', 'gdp_md_est'``` columns and sum over ```'dots_exten'```. This will gives us the total pollution for each country."
   ]
  },
  {
   "cell_type": "code",
   "execution_count": null,
   "id": "932b6f5f-7cf9-4db6-80b4-b93ef5176da8",
   "metadata": {},
   "outputs": [],
   "source": [
    "# run me\n",
    "country_plastics = river_country.groupby(['name', 'continent', 'pop_est', 'gdp_md_est'], as_index=False)['dots_exten'].sum()\n",
    "country_plastics"
   ]
  },
  {
   "cell_type": "markdown",
   "id": "e0821f14-eaee-4e54-abed-2e848e439fac",
   "metadata": {},
   "source": [
    "This ```country_plastics``` DataFrame has data from the original ```World``` DataFrame and a value for the total plastic emissions in metric tons in the ```dots_exten``` column.\n",
    "\n",
    "The only thing we are missing is the geometry values for each country so we can plot them.    \n",
    "Select only the ```'name'``` and ```'geometry'``` columns from ```world``` and store them in ```country_geometry```."
   ]
  },
  {
   "cell_type": "code",
   "execution_count": null,
   "id": "0d993640-5fd0-4755-ba75-47293cc53e41",
   "metadata": {},
   "outputs": [],
   "source": [
    "country_geometry = '''Your code here'''\n",
    "country_geometry"
   ]
  },
  {
   "cell_type": "markdown",
   "id": "bb43c5bc-1a99-424c-838b-d8aa563a6ba6",
   "metadata": {},
   "source": [
    "All that's left is to join the ```country_plastics``` and ```country_geometry``` DataFrames on the ```'name'``` column."
   ]
  },
  {
   "cell_type": "code",
   "execution_count": null,
   "id": "9e36995c-1e0e-4472-9a6c-2bbf950243b9",
   "metadata": {},
   "outputs": [],
   "source": [
    "# merge the two dataframes\n",
    "country_plastics = '''Your code here'''.merge('''Your code here''', on='''Your code here''')\n",
    "country_plastics"
   ]
  },
  {
   "cell_type": "markdown",
   "id": "e6f9451d-4fc6-48c7-8bba-2a3e16b47728",
   "metadata": {},
   "source": [
    "Before we move on check that the population and gdp data hasn't been altered! You might like to play around with it later.\n",
    "\n",
    "Print out the row in ```world``` for Albania and check against ```country_plastics``` above. If all is good they should contain the same population and gdp values."
   ]
  },
  {
   "cell_type": "code",
   "execution_count": null,
   "id": "28f8137d-6384-4efd-b8c6-1db84ba0bd73",
   "metadata": {},
   "outputs": [],
   "source": [
    "# Hint: use the .loc[] fucntion\n",
    "'''Your code here'''"
   ]
  },
  {
   "cell_type": "markdown",
   "id": "a82aa5bf-8b47-404f-a5a9-2e3593fe61b4",
   "metadata": {},
   "source": [
    "Now we can plot a chloropleth map which will colour each country based on their pollution. Run the code below to generate the plot."
   ]
  },
  {
   "cell_type": "code",
   "execution_count": null,
   "id": "c369bfde-b6da-4479-b3a8-57c69d019bce",
   "metadata": {},
   "outputs": [],
   "source": [
    "# run me\n",
    "fig, ax = plt.subplots(1, 1)\n",
    "country_plastics.plot(column = 'dots_exten',\n",
    "                     cmap='PuBu',\n",
    "                     ax = ax,\n",
    "                     legend = True,\n",
    "                     legend_kwds = {'label': \"Annual Metric Ton Plastic Pollution by Country\",\n",
    "                                   'orientation': \"horizontal\"})\n",
    "ax.set_axis_off();"
   ]
  },
  {
   "cell_type": "markdown",
   "id": "eb456bb9-9a1b-402f-b6f1-b22e6e918081",
   "metadata": {},
   "source": [
    "This plot makes it look like only 4-5 countries are polluting!\n",
    "\n",
    "This is obviously not true. Most countries data lies well below $50,000\\ T$ so a few outliers are distorting our visualisation with this colourscheme. Let's print the 10 worst offenders."
   ]
  },
  {
   "cell_type": "code",
   "execution_count": null,
   "id": "8e4bedeb-824e-43f1-bf85-e90687a7450c",
   "metadata": {},
   "outputs": [],
   "source": [
    "# select the largest 10 rows in country_plastics by their dots_exten value\n",
    "country_plastics.sort_values(by=['''Your code here'''], ascending='''Your code here''').head('''Your code here''')"
   ]
  },
  {
   "cell_type": "markdown",
   "id": "659a39ba-3687-4704-b492-8c622fd5cdaf",
   "metadata": {},
   "source": [
    "We can change how our data is coloured by specifying the ```scheme```.\n",
    "Let's see if using quantiles to colour our data helps."
   ]
  },
  {
   "cell_type": "code",
   "execution_count": null,
   "id": "0653ef9e-3dbc-4e81-9bda-64fda74991bb",
   "metadata": {},
   "outputs": [],
   "source": [
    "# run me\n",
    "fig, ax = plt.subplots(1, 1)\n",
    "country_plastics.plot(column = 'dots_exten',\n",
    "                     cmap='PuBu',\n",
    "                     scheme='quantiles',\n",
    "                     ax = ax,\n",
    "                     legend = True,\n",
    "                     legend_kwds = {'title': \"Annual Metric Ton Plastic Pollution by Country\",\n",
    "                                   'frameon': False,\n",
    "                                   'loc': 'upper center',\n",
    "                                   'bbox_to_anchor': (0.5, 0)})\n",
    "\n",
    "ax.set_axis_off();"
   ]
  },
  {
   "cell_type": "markdown",
   "id": "94529a01-efab-4c87-8609-fb605e0ea201",
   "metadata": {},
   "source": [
    "Better but still not great - the largest quantile has collated loads of countries with a huge range of pollution values. Before we try moving to other schemes save this figure for reference.\n",
    "\n",
    "Remember to chose a sensible name."
   ]
  },
  {
   "cell_type": "code",
   "execution_count": null,
   "id": "767346f4-83bf-4564-92f1-734e14a43ca6",
   "metadata": {},
   "outputs": [],
   "source": [
    "plt.savefig('./your_filename.jpg', dpi=200, bbox_inches='tight', pad_inches = 0)"
   ]
  },
  {
   "cell_type": "markdown",
   "id": "4866b7c0-5a2c-4d4b-8ecd-9093758b5a0c",
   "metadata": {},
   "source": [
    "A list of schemes which alter how the data is binned and coloured can be found [here](https://geopandas.org/en/stable/docs/user_guide/mapping.html). Change the scheme to see if there is a better one to represent our data."
   ]
  },
  {
   "cell_type": "code",
   "execution_count": null,
   "id": "99089974-3257-45d4-a7e5-2583f744cbd5",
   "metadata": {},
   "outputs": [],
   "source": [
    "fig, ax = plt.subplots(1, 1)\n",
    "country_plastics.plot(column = 'dots_exten',\n",
    "                     cmap='PuBu',\n",
    "                     scheme='''Your code here''',\n",
    "                     ax = ax,\n",
    "                     legend = True,\n",
    "                     legend_kwds = {'title': \"Annual Metric Ton Plastic Pollution by Country\",\n",
    "                                   'frameon': False,\n",
    "                                   'loc': 'upper center',\n",
    "                                   'bbox_to_anchor': (0.5, -0.01)})\n",
    "\n",
    "ax.set_axis_off();"
   ]
  },
  {
   "cell_type": "code",
   "execution_count": null,
   "id": "edb8b3ed-2739-40c7-9262-e27bb63b3491",
   "metadata": {},
   "outputs": [],
   "source": [
    "plt.savefig('./your_filename.jpg', dpi=200, bbox_inches='tight', pad_inches = 0)"
   ]
  },
  {
   "cell_type": "markdown",
   "id": "c4eb996c-e7d8-4270-be6a-b800811f8eb7",
   "metadata": {},
   "source": [
    "Tricky! One of the challenges at the end of this acitivity is to break up the plot so high pollutors are plotted separately with a different colourscheme to low polluting countries.\n",
    "\n",
    "## Local River Data <a class=\"anchor\" id=\"Local\"></a>\n",
    "\n",
    "Let's now look at some rivers local to you or your country.\n",
    "\n",
    "We can split up the geometry column in ```rivers``` to create columns for longitude and latitude with the code below."
   ]
  },
  {
   "cell_type": "code",
   "execution_count": null,
   "id": "03a05cb6-446f-475a-91b9-5d23dce7b762",
   "metadata": {},
   "outputs": [],
   "source": [
    "# run me\n",
    "rivers['lon'] = rivers['geometry'].x\n",
    "rivers['lat'] = rivers['geometry'].y"
   ]
  },
  {
   "cell_type": "markdown",
   "id": "6afd330b-014d-4632-aabf-7917ad5b0a57",
   "metadata": {},
   "source": [
    "For the South / South East UK I know I roughly need latitude values between $50^{\\circ}$ and $52^{\\circ}$ and longitude values between $-2^{\\circ}$ and $2^{\\circ}$.\n",
    "\n",
    "Run the following code to select rivers in this part of the UK. You will be able to enter your own region later."
   ]
  },
  {
   "cell_type": "code",
   "execution_count": null,
   "id": "49fdba8c-5cff-44ef-9522-f40b6ad228f5",
   "metadata": {},
   "outputs": [],
   "source": [
    "# run me\n",
    "seuk_rivers = rivers[rivers['lon'].between(-2, 2, inclusive='neither')]\n",
    "seuk_rivers = seuk_rivers[seuk_rivers['lat'].between(50, 52, inclusive='neither')]\n",
    "seuk_rivers.head()"
   ]
  },
  {
   "cell_type": "markdown",
   "id": "307e312d-b12c-4c92-96cf-f4f1fafca531",
   "metadata": {},
   "source": [
    "Let's see how many rivers we are left with:"
   ]
  },
  {
   "cell_type": "code",
   "execution_count": null,
   "id": "2d892a7c-6636-4ff2-9a57-8901bb71a823",
   "metadata": {},
   "outputs": [],
   "source": [
    "# run me\n",
    "len(seuk_rivers)"
   ]
  },
  {
   "cell_type": "markdown",
   "id": "f88dd260-524c-46c4-ae41-020722a5e330",
   "metadata": {},
   "source": [
    "Now we can plot the rivers."
   ]
  },
  {
   "cell_type": "code",
   "execution_count": null,
   "id": "9484208e-cb82-4448-934b-3dcfceb557ba",
   "metadata": {},
   "outputs": [],
   "source": [
    "# run me\n",
    "seuk_sizes = seuk_rivers['dots_exten']*20\n",
    "\n",
    "fig, ax = plt.subplots(figsize=(8, 8))\n",
    "seuk_rivers.plot(ax=ax, marker='o', color='#170312', markersize=seuk_sizes, alpha=.5)\n",
    "cx.add_basemap(ax, crs=seuk_rivers.crs, zoom=10)\n",
    "ax.set_aspect('equal')\n",
    "ax.set_axis_off()"
   ]
  },
  {
   "cell_type": "code",
   "execution_count": null,
   "id": "9c687c99-553f-4944-8d4d-09372e54b2be",
   "metadata": {},
   "outputs": [],
   "source": [
    "plt.savefig('./river_plastics_SEUK.jpg', dpi=200, bbox_inches='tight', pad_inches = 0)"
   ]
  },
  {
   "cell_type": "markdown",
   "id": "c8ae4fbf-dc4a-473e-873c-753131355405",
   "metadata": {},
   "source": [
    "### Your Local Rivers <a class=\"anchor\" id=\"YourLocal\"></a>\n",
    "\n",
    "Before we move on head over to [OpenStreetMap](https://www.openstreetmap.org/directions). Navigate to an area of coastline you would like to focus on. \n",
    "\n",
    "Drag the Green marker to the top right of the area. Drag the Red marker to the bottom left of the area. This will display the lat, lon values in the top left directions box.\n",
    "<div class=\"alert alert-block alert-success\">\n",
    "    \n",
    "Go ahead and:\n",
    "    \n",
    "- Select an area using OpenStreetMap\n",
    "- Note down the min and max latitude values\n",
    "- Note down the min and max longitude values\n",
    "- Run the code below</div>"
   ]
  },
  {
   "cell_type": "code",
   "execution_count": null,
   "id": "183e7afa-164b-4c73-8063-d64f61824595",
   "metadata": {},
   "outputs": [],
   "source": [
    "# run me\n",
    "world_total = rivers['dots_exten'].sum()\n",
    "\n",
    "def local_rivers(lat_min, lat_max, lon_min, lon_max, conf):\n",
    "    \"\"\"Plots local river data\n",
    "    \n",
    "    Takes the min/max lat/long values and makes a plot of that region\n",
    "    Displays text at top of total emission in picture and as a percentage of world total\n",
    "    Also labels each river with their plastic emission in metric tons\n",
    "    \n",
    "    Args:\n",
    "        lat_min -- float, minimum latitude for figure\n",
    "        lat_max -- float, maximum latitude for figure\n",
    "        lon_min -- float, minimum longitude for figure\n",
    "        lon_max -- float, maximum longitude for figure\n",
    "        conf -- dictionary, controls optional parameters\n",
    "                default values shown in example below\n",
    "        \n",
    "    Returns:\n",
    "        Nothing - displays the figure\n",
    "        \n",
    "    Example:\n",
    "        >>> local_config = {\n",
    "                'color' : '#170312',     # river marker colour\n",
    "                'scale' : 1,             # scale to change marker size\n",
    "                'zoom' : 10,             # level of detail for basemap\n",
    "                'zoom2' : 9,             # level of detail for basemap labels only if style != Terrain\n",
    "                'alpha' : .5,            # alpha for markers\n",
    "                'bg_alpha' : 1,          # alpha for basemap\n",
    "                'style': 'Terrain'       # style for basemap Terrain or Watercolour\n",
    "                }\n",
    "\n",
    "        >>> local_rivers(50.6, 51.6, .4, 1.6, local_config)\n",
    "    \"\"\"\n",
    "    \n",
    "    col = conf.get('color', '#170312')\n",
    "    scale = conf.get('scale', 1)\n",
    "    zoom = conf.get('zoom', 10)\n",
    "    a = conf.get('alpha', .5)\n",
    "    ba = conf.get('bg_alpha', 1)\n",
    "    style = conf.get('style', 'Terrain')\n",
    "    \n",
    "    loc_rivers = rivers[rivers['lat'].between(lat_min, lat_max, inclusive='neither')]\n",
    "    loc_rivers = loc_rivers[loc_rivers['lon'].between(lon_min, lon_max, inclusive='neither')]\n",
    "    loc_sizes = loc_rivers['dots_exten']*20*scale\n",
    "    \n",
    "    fig, ax = plt.subplots(figsize=(8, 8))\n",
    "    loc_rivers.plot(ax=ax, marker='o', color=col, markersize=loc_sizes, alpha=a, zorder=3)\n",
    "    \n",
    "    if style == 'Terrain':\n",
    "        cx.add_basemap(ax, crs=loc_rivers.crs, zoom=zoom, alpha=ba)\n",
    "    else:\n",
    "        zoom2 = conf.get('zoom2', 9)\n",
    "        cx.add_basemap(ax, crs=loc_rivers.crs, source=cx.providers.Stamen.Watercolor, zoom=zoom, alpha=ba, zorder=1)\n",
    "        cx.add_basemap(ax, crs=loc_rivers.crs, source=cx.providers.Stamen.TonerLabels, zoom=zoom2, alpha=ba, zorder=2)\n",
    "    \n",
    "    t1 = f'Number of rivers in image = {len(loc_rivers)}'\n",
    "    loc_total = loc_rivers['dots_exten'].sum()\n",
    "    t2 = f'Total Annual Plastic Emissions = {loc_total:.2f} Metric Tons'\n",
    "    t3 = f'Representing {loc_total/world_total:%} of World Emissions'\n",
    "    text = t1+'\\n'+t2+'\\n'+t3\n",
    "    plt.text(0, 1.05, text, transform=ax.transAxes)\n",
    "        \n",
    "    texts = [ax.annotate(f\"{row['dots_exten']:.2f} T\", (row['lon'], row['lat']), fontsize=8) for i, row in loc_rivers.iterrows()]\n",
    "    adjust_text(texts)\n",
    "    \n",
    "    ax.set_aspect('equal')\n",
    "    ax.set_axis_off()"
   ]
  },
  {
   "cell_type": "markdown",
   "id": "3017c546-ed8e-460a-8947-569a85ac275a",
   "metadata": {},
   "source": [
    "This code wraps up what we did for the South East UK into a function that will accept any latitude/long pairs.\n",
    "Enter your latitude/longitude pairs into the code cell below following this format:\n",
    "\n",
    "```python\n",
    "local_rivers(lat_min, lat_max, lon_min, lon_max, conf)\n",
    "```\n",
    "\n",
    "Then run the code and save your figure if you're happy."
   ]
  },
  {
   "cell_type": "code",
   "execution_count": null,
   "id": "08ba1118-d045-491a-9143-bbcaae5da14f",
   "metadata": {},
   "outputs": [],
   "source": [
    "local_config = {\n",
    "    'color' : 'orange',\n",
    "    'scale' : 4,\n",
    "    'bg_alpha' : .6\n",
    "}\n",
    "\n",
    "local_rivers('''Your code here''', local_config)"
   ]
  },
  {
   "cell_type": "code",
   "execution_count": null,
   "id": "b13a2b5e-c627-42a6-b7fc-4d373bebba09",
   "metadata": {},
   "outputs": [],
   "source": [
    "plt.savefig('./your_filename.jpg', dpi=200, bbox_inches='tight', pad_inches = 0)"
   ]
  },
  {
   "cell_type": "markdown",
   "id": "fcc2fa35-f2c4-4c1d-a1db-a15d5fe38db3",
   "metadata": {},
   "source": [
    "Each river has a handy label! The ```local_config``` dictionary allows you to control things like the marker colour, scale the markers, and change the background opacity.\n",
    "Try out the config below with your latitude/longitudes. What does it do?\n",
    "\n",
    "You can now alter the config as much as you like using the function docstring as guidance."
   ]
  },
  {
   "cell_type": "code",
   "execution_count": null,
   "id": "4ad50917-b29e-4daf-b0e9-6d1e546c7c9b",
   "metadata": {},
   "outputs": [],
   "source": [
    "local_config = {\n",
    "    'color' : 'red',\n",
    "    'scale' : 8,\n",
    "    'style': 'watercolour',\n",
    "    'bg_alpha' : .5\n",
    "}\n",
    "\n",
    "local_rivers('''Your code here''', local_config)"
   ]
  },
  {
   "cell_type": "code",
   "execution_count": null,
   "id": "782a45a3-4f9c-4f2a-992f-5338a8675012",
   "metadata": {},
   "outputs": [],
   "source": [
    "plt.savefig('./your_filename.jpg', dpi=200, bbox_inches='tight', pad_inches = 0)"
   ]
  },
  {
   "cell_type": "markdown",
   "id": "d3427f30-5fef-4966-bdca-4aa3d408f8a7",
   "metadata": {},
   "source": [
    "Have a go at doing some other areas you're interested in. Do you know any of the rivers whose outlets are plotted?\n",
    "\n",
    "## Saving your Work\n",
    "\n",
    "Always save your work at the end and download the **.ipynb** and other files you need to keep!\n",
    "\n",
    "## Over to You <a class=\"anchor\" id=\"OTY\"></a>\n",
    "\n",
    "Have a go at the tasks below. I haven't provided solutions and there are probably a few ways to solve each one! Remember if you are stuck you can consult the Python and NumPy docs at https://docs.python.org/3/, and https://numpy.org/doc/stable/, find help from one of these websites www.w3schools.com, www.python.org, www.learnpython.org or you can also get advice from www.stackoverflow.com. You can also ask your instructor for help or email me at astrodimitrios@gmail.com.\n",
    "\n",
    "**Task 1:** Go back to the custom plot where we added all the rivers. Alter the plot to show labels for the largest polluting rivers. You can also try highlighting different rivers based off percentiles.      \n",
    "**Task 2:** Alter the chloropleth plot so that the largest 10 countries are plotted separetly with a different colourscheme to the rest of the countries.     \n",
    "**Task 3:** Create a new local river plot and annotate the names of some river outlets on the figure.      \n",
    "**Task 4:** Check out the #TeamSeas campaign and the Ocean Cleanup Project by clicking on the links at the start."
   ]
  },
  {
   "cell_type": "code",
   "execution_count": null,
   "id": "20368f11-f931-4f63-926d-6b8db2e77afe",
   "metadata": {},
   "outputs": [],
   "source": [
    "# Your code here:\n"
   ]
  },
  {
   "cell_type": "markdown",
   "id": "92645327-639b-47e9-95c3-0b796e2625ba",
   "metadata": {},
   "source": [
    "## References <a class=\"anchor\" id=\"REF\"></a>\n",
    "\n",
    "Data from here Meijer L. J. J. et al., 2021, *Sci. Adv.*, More than 1000 rivers account for 80% of global riverine plastic emissions into the ocean, DOI: [10.1126/sciadv.aaz5803](10.1126/sciadv.aaz5803) which is provided [here](https://figshare.com/articles/dataset/Supplementary_data_for_More_than_1000_rivers_account_for_80_of_global_riverine_plsatic_emissions_into_the_ocean_/14515590)\n",
    "\n",
    "## Acknowledgements <a class=\"anchor\" id=\"ACK\"></a>\n",
    "\n",
    "Thanks to Lourens Meijer from the Ocean Cleanup for clarifying my question on the geospatial dataset.\n",
    "\n",
    "## Sharing\n",
    "\n",
    "If you share, use or modify this activity in any way use the citation in this [txt file](https://github.com/astroDimitrios/Astronomy/blob/master/CITATION.txt).    \n",
    "Please contact me at astrodimitrios@gmail.com with any suggestions, mistakes found, or general questions about teaching astronomy with Python.\n",
    "\n",
    "© Dimitrios Theodorakis GNU General Public License v3.0 \u000b",
    "\n",
    "https://github.com/astroDimitrios/Astronomy  "
   ]
  }
 ],
 "metadata": {
  "kernelspec": {
   "display_name": "Python 3 (ipykernel)",
   "language": "python",
   "name": "python3"
  },
  "language_info": {
   "codemirror_mode": {
    "name": "ipython",
    "version": 3
   },
   "file_extension": ".py",
   "mimetype": "text/x-python",
   "name": "python",
   "nbconvert_exporter": "python",
   "pygments_lexer": "ipython3",
   "version": "3.9.7"
  }
 },
 "nbformat": 4,
 "nbformat_minor": 5
}
