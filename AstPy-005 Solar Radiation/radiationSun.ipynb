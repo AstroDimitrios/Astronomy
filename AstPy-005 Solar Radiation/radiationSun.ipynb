{
 "cells": [
  {
   "cell_type": "markdown",
   "metadata": {},
   "source": [
    "Name: __________________ Class: __________________ Date: __________________"
   ]
  },
  {
   "cell_type": "markdown",
   "metadata": {
    "tags": []
   },
   "source": [
    "<center>\n",
    "    <img width=\"100%\" src=\"https://raw.githubusercontent.com/astroDimitrios/Astronomy/main/APBanner.png\" alt='A&P Logo'>\n",
    "</center>\n",
    "\n",
    "# Solar Radiation\n",
    "\n",
    "### AIM - Visualise the black-body radiation from different temperature stars and calculate the effective temperature of planets.\n",
    "Difficulty: Easy\n",
    "\n",
    "**Predict**\n",
    "\n",
    "Have a think about these questions and make some predictions! Be sure to tell someone else what you predict.\n",
    "\n",
    "1) Do hotter objects emit more light of longer or shorter wavelengths?  \n",
    "2) What colour light does our Sun emit the most of?     \n",
    "3) What colour are the hottest stars?"
   ]
  },
  {
   "cell_type": "markdown",
   "metadata": {},
   "source": [
    "**Enter your predictions:**    \n",
    "1)    \n",
    "2)    \n",
    "3)    "
   ]
  },
  {
   "cell_type": "markdown",
   "metadata": {},
   "source": [
    "## Contents\n",
    "\n",
    "* [Start](#Start)\n",
    "* [Black-body Radiation](#BBR)\n",
    "* [Stellar Luminosity](#SBL)\n",
    "* [Warming the Planets](#WP)\n",
    "* [Challenges](#Challenges)\n",
    "* [References](#References)\n",
    "\n",
    "## Let's go: The Multi-Wavelength Sun<a class=\"anchor\" id=\"Start\"></a>\n",
    "\n",
    "Stars emit all wavelengths of the electromagnetic spectrum but with different intensity. Stars emit the most light at a certain peak wavelength, $\\lambda_{peak}$. We can use Wien's Law to calculate the peak wavlength for our Sun.\n",
    "\n",
    "$$\\lambda_{peak} = \\frac{b}{T}$$\n",
    "\n",
    "- $b$ is Wien's displacement constant or $2.897771955\\times10^{-3}\\ mK$\n",
    "- $T$ is the effective surface temperature. This is the temperature of a blackbody that would emit the same amount of radiation as the object or star, for the Sun this is $5772\\ K$\n",
    "\n",
    "<div class=\"alert alert-block alert-success\">\n",
    "Let's calculate the $\\lambda_{peak}$ for our Sun by completing the code below:</div>"
   ]
  },
  {
   "cell_type": "code",
   "execution_count": null,
   "metadata": {},
   "outputs": [],
   "source": [
    "# run me\n",
    "import numpy as np\n",
    "import matplotlib.pyplot as plt\n",
    "import ipywidgets as widgets\n",
    "from IPython.display import Image\n",
    "from ipywidgets import interact, interactive, fixed, interact_manual, FloatSlider, Layout\n",
    "%matplotlib widget"
   ]
  },
  {
   "cell_type": "code",
   "execution_count": null,
   "metadata": {},
   "outputs": [],
   "source": [
    "T = 5772                 # K\n",
    "b = 2.897771955*10**(-3) # m K\n",
    "\n",
    "# input Wien's Law here\n",
    "# Your code here:\n",
    "peak_wavelength = \n",
    "\n",
    "print(f\"The peak wavelength is : {peak_wavelength*10**9:.0f} nm\")"
   ]
  },
  {
   "cell_type": "markdown",
   "metadata": {},
   "source": [
    "<br> What colour is the wavelength you calculated?     \n",
    "Why do you think the Sun is not this colour in the Sky?\n",
    "<div class=\"alert alert-block alert-success\">\n",
    "Use the interactive slider below to work out the peak wavelengths for the following bright Stars:\n",
    "\n",
    "1) Betelgeuse $3500\\ K$     \n",
    "2) Rigel $11000\\ K$\n",
    "</div>"
   ]
  },
  {
   "cell_type": "code",
   "execution_count": null,
   "metadata": {
    "jupyter": {
     "source_hidden": true
    },
    "tags": []
   },
   "outputs": [],
   "source": [
    "@interact(T=(1,10000))\n",
    "def weins(T):\n",
    "    b = 2.897771955*10**(-3) # m K\n",
    "    lp = b/T\n",
    "    print(f\"The peak wavelength for temp {T:.0f} K is : {lp*10**9:.0f} nm\")"
   ]
  },
  {
   "cell_type": "markdown",
   "metadata": {},
   "source": [
    "**Enter your answers:**    \n",
    "1) Betelguese -     \n",
    "2) Rigel -      "
   ]
  },
  {
   "cell_type": "markdown",
   "metadata": {},
   "source": [
    "<br>\n",
    "\n",
    "## Black-body Radiation <a class=\"anchor\" id=\"BBR\"></a>\n",
    "\n",
    "We can approximate the Sun as a black-body. A black-body is an object that absorbs and emits radiation perfectly at all frequencies of the electromagnetic spectrum.\n",
    "The Sun doesn't emit the same amount of radiation for each wavelength of light, we know this having just calculated the peak wavelength emitted. To work out the intensity of radiation emitted at other wavelengths we will need Planck's Law:\n",
    "\n",
    "$$B(\\lambda, T) = \\frac{2hc^2}{\\lambda^5}\\frac{1}{e^{\\frac{hc}{\\lambda k_B T}}-1}$$\n",
    "\n",
    "- $B$ is the spectral intensity for a given wavelength, $\\lambda$, and surface temperature, $T$, of a star \n",
    "- $h$ is Planck's constant\n",
    "- $c$ is the speed of light in a vacuum\n",
    "- $k_B$ is the Boltzmann constant\n",
    "- $T$ is the effective surface temperature\n",
    "\n",
    "<div class=\"alert alert-block alert-success\">Again assume that the surface temperature of the Sun is $5772\\ K$. Complete the code below to create a plot of spectral intensity over the wavelength range $10 - 3000\\ nm$.</div>"
   ]
  },
  {
   "cell_type": "code",
   "execution_count": null,
   "metadata": {},
   "outputs": [],
   "source": [
    "T = 5772 # K\n",
    "kB = 1.380649*10**(-23) # J/K\n",
    "c = 299792458 # m/s\n",
    "h = 6.62607015*10**(-34) # Js\n",
    "\n",
    "# create an array of wavelengths in nm\n",
    "# Your code here:\n",
    "l = \n",
    "\n",
    "# l is in nanometres, convert it to metres\n",
    "# Your code here:\n",
    "l = \n",
    "\n",
    "# calculate B using Planck's Law\n",
    "# Your code here:\n",
    "B = \n",
    "\n",
    "fig = plt.figure(2)\n",
    "ax = plt.subplot(xlim=(0,3000),ylim=(0,3))\n",
    "ax.plot(l*10**9, B/10**13, c=\"gold\")\n",
    "ax.set_xlabel(\"Wavelength / nm\")\n",
    "ax.set_ylabel(\"Spectral Intensity / 10^13 W/sr/m^3\")\n",
    "ax.spines[\"top\"].set_visible(False)\n",
    "ax.spines[\"right\"].set_visible(False)"
   ]
  },
  {
   "cell_type": "markdown",
   "metadata": {},
   "source": [
    "Black-body curves rise sharply at short wavelengths and have long tails dropping off into longer wavelengths. To see a load of radiation curves for different temperature stars load the **blackbodyCurves** image by running the cell below:"
   ]
  },
  {
   "cell_type": "code",
   "execution_count": null,
   "metadata": {},
   "outputs": [],
   "source": [
    "# run me\n",
    "Image(\"blackbodyCurves.png\")"
   ]
  },
  {
   "cell_type": "markdown",
   "metadata": {},
   "source": [
    "The yellow line with a peak of $502\\ nm$ is for the Sun. This peak is a wavelength of green/blue light not yellow like our Sun is.  \n",
    "Our Sun looks yellow because it radiates other wavelengths as well. The longer tail on the right of the graph to the redder wavelengths means even though the peak wavelength is green the Sun overall looks yellow.\n",
    "<div class=\"alert alert-block alert-success\">\n",
    "    \n",
    "Use the interactive below to create the blackbody curves for Betelguese and Rigel (temperatures above). How do their blackbody curves compare to the Suns which is the black line?\n",
    "    \n",
    "</div>"
   ]
  },
  {
   "cell_type": "code",
   "execution_count": null,
   "metadata": {
    "jupyter": {
     "source_hidden": true
    },
    "tags": []
   },
   "outputs": [],
   "source": [
    "#run me\n",
    "\n",
    "def blackBody(T):\n",
    "    kB = 1.380649*10**(-23) # J/K\n",
    "    c = 299792458 # m/s\n",
    "    h = 6.62607015*10**(-34) # Js\n",
    "    \n",
    "    l = np.arange(10,4000,1)*10**(-9)\n",
    "\n",
    "    B = 2*h*c**2/l**5 * 1/(np.exp(h*c/(l*kB*T))-1)\n",
    "    B_SUN = 2*h*c**2/l**5 * 1/(np.exp(h*c/(l*kB*5772))-1)\n",
    "\n",
    "    fig = plt.figure(num=3,figsize=(5,2))\n",
    "    ax = plt.subplot(xlim=(0,4000),ylim=(0,max(B)/10**13*1.1))\n",
    "    ax.plot(l*10**9, B/10**13, c=\"gold\")\n",
    "    ax.plot(l*10**9, B_SUN/10**13, c=\"k\")\n",
    "    ax.set_xlabel(\"Wavelength / nm\")\n",
    "    ax.set_ylabel(\"Spectral Intensity / 10^13 W/sr/m^3\")\n",
    "    ax.spines[\"top\"].set_visible(False)\n",
    "    ax.spines[\"right\"].set_visible(False)\n",
    "\n",
    "interactive_plot = interactive(blackBody, T=FloatSlider(min=2500, max=10000, \n",
    "                                                        step=1, continuous_update=False), \n",
    "                              layout=Layout(height='100%'))\n",
    "interactive_plot"
   ]
  },
  {
   "cell_type": "markdown",
   "metadata": {},
   "source": [
    "<br>\n",
    "\n",
    "## Stellar Luminosity <a class=\"anchor\" id=\"SBL\"></a>\n",
    "\n",
    "You may have noticed by now that hotter stars emit more radiation and have a higher peak spectral intensity. We can work out the luminosity (power) of a star using its temperature and the Stefan-Boltzmann Law. This law relates a star's temperature and radius to its luminosity, the amount of energy emitted per second:\n",
    "\n",
    "$$L = 4\\pi R^2\\sigma T^{4}$$\n",
    "\n",
    "- $R$ is the radius of the star\n",
    "- $\\sigma$ is the Stefan-Boltzman constant\n",
    "- $T$ is the effective surface temperature\n",
    "\n",
    "<div class=\"alert alert-block alert-success\">\n",
    "Let's calculate the luminosity of the Sun using this law:</div>"
   ]
  },
  {
   "cell_type": "code",
   "execution_count": null,
   "metadata": {},
   "outputs": [],
   "source": [
    "SIGMA = 5.670374419*10**(-8) # W m^-2 K^-4\n",
    "\n",
    "# find and enter the mean radius of the Sun in metres\n",
    "# Your code here:\n",
    "R_SUN = \n",
    "\n",
    "# use Stefan-Boltzman's law to calculate the luminosity of the Sun\n",
    "# Your code here:\n",
    "L_sun = \n",
    "\n",
    "print(f\"The Luminosity of the Sun is : {L_sun:.2e} W\")"
   ]
  },
  {
   "cell_type": "markdown",
   "metadata": {},
   "source": [
    "<br>We get very close to the accepted value of $3.828\\times10^{26}\\ W$ (https://nssdc.gsfc.nasa.gov/planetary/factsheet/sunfact.html).     \n",
    "\n",
    "Of course the Sun is not a perfect black-body which we have assumed throughout this section.\n",
    "If were to plot observational data for the Sun on our graph from earlier it would follow the gold curve but with dips and spikes.\n",
    "These are atomic absorption and emissions lines which we will look at in a future Notebook.\n",
    "<div class=\"alert alert-block alert-success\">\n",
    "    \n",
    "Use the next interactive to answer these questions:\n",
    "\n",
    "1) Which has a greater effect on Luminosity, surface Temperature or Radius of the star?\n",
    "2) How many times less/more luminous is Betelguese, radius 887 solar radii, compared to the Sun?\n",
    "3) How many times less/more luminous is Rigel, radius 79 solar radii, compared to the Sun?\n",
    "\n",
    "The first slider $R$ changes the radius of the star in units of solar radii.  \n",
    "The second slider $T$ changes the temperature of the star in K.\n",
    "\n",
    "</div>"
   ]
  },
  {
   "cell_type": "code",
   "execution_count": null,
   "metadata": {
    "jupyter": {
     "source_hidden": true
    },
    "tags": []
   },
   "outputs": [],
   "source": [
    "@interact(R=(0.5,900,0.1), T=(2500,11000,1))\n",
    "def lumin(R, T):\n",
    "    sigma = 5.670374419*10**(-8) # W m^-2 K^-4\n",
    "    Tsun = 5772 # K\n",
    "    Rsun = 6.957*10**8 # m\n",
    "    R = Rsun*R\n",
    "    Lstar = 4*np.pi*R**2*sigma*T**4\n",
    "    Lsun = 4*np.pi*Rsun**2*sigma*Tsun**4\n",
    "    ratio = Lstar/Lsun\n",
    "    print(f\"The Luminosity of the star is : {Lsun:.2e} W or {ratio:.2f} times that of the Sun\")"
   ]
  },
  {
   "cell_type": "markdown",
   "metadata": {},
   "source": [
    "**Enter your answers:**    \n",
    "1) \n",
    "2) Betelguese -     \n",
    "3) Rigel -      "
   ]
  },
  {
   "cell_type": "markdown",
   "metadata": {},
   "source": [
    "<br>    \n",
    "\n",
    "## Warming the Planets <a class=\"anchor\" id=\"WP\"></a>\n",
    "\n",
    "The Suns radiation warms the planets. If we also approximate the planets as black bodies we can calculate their equilibrium temperature, $T_{p}$.\n",
    "This is the temperature a planet would be from just solar heating by absorbing all incident solar radiation and emitting it all as well (remember black-bodies emit and absorb radiation perfectly).\n",
    "The equilibrium temperature is achieved when the absorbed radiation is equal to the emitted radiation of the planet (gaining energy from radiation as fast as it is loosing it).\n",
    "The power the planet receives is:\n",
    "\n",
    "$$P_{in} = L_{\\odot}(1-a)(\\frac{\\pi R_{p}^{2}}{4\\pi D^2})$$\n",
    "\n",
    "$$P_{in} = 4\\pi R_{\\odot}^{2}\\sigma T_{\\odot}^{4}(1-a)(\\frac{\\pi R_{p}^{2}}{4\\pi D^2})$$\n",
    "\n",
    "This is the luminosity of the sun, $L_{\\odot}$, times the fraction of light that is absorbed by the planet $(1-a)$. The final term is the area of a circle the size of the planet divided by the area of the sphere whos radius is the distance of the planet to the Sun. This term is the amount of sunlight that reaches the planet since the radiation spreads out in all directions after leaving the solar surface according to the inverse square law.\n",
    "\n",
    "$a$ is the albedo of the planet which is how much incident radiation is reflected back into space.\n",
    "Objects with icier or whiter surfaces have a higher albedo since ice and white objects reflect more light than darker objects.\n",
    "\n",
    "The power radiated from the planet is found using the Stefan-Boltzmann Law, $P_{out} = 4\\pi R_p^2\\sigma T_{p}^{4}$.\n",
    "Equating $P_{in}$ and $P_{out}$ we get:\n",
    "\n",
    "$$T_{p} = T_{\\odot}(1-a)^{\\frac{1}{4}}\\sqrt{\\frac{R_{\\odot}}{2D}}$$\n",
    "\n",
    "<div class=\"alert alert-block alert-success\">\n",
    "Complete the code below to calculate the equilibrium temperature for the Earth:</div>"
   ]
  },
  {
   "cell_type": "code",
   "execution_count": null,
   "metadata": {},
   "outputs": [],
   "source": [
    "a_EARTH = 0.306     # Earth's average albedo\n",
    "AU = 149597870700   # 1 Astronomical Unit in metres\n",
    "K_to_degC = 273.15  # conversion Kelvin to degrees Celcius\n",
    "D = 1 * AU          # average distance to the Sun in metres\n",
    "\n",
    "# use the equation above to calculate the effective temperature of the Earth\n",
    "# Your code here:\n",
    "TeqEarth = \n",
    "\n",
    "degSymb = '\\u00b0'\n",
    "print(f\"The Equilibrium Tmperature of the Earth is: {TeqEarth:.0f} K\")\n",
    "print(f\"The Equilibrium Tmperature of the Earth is: {TeqEarth-K_to_degC:.0f} {degSymb}C\")"
   ]
  },
  {
   "cell_type": "markdown",
   "metadata": {
    "tags": []
   },
   "source": [
    "<br>Wow chilly! This temperature doesn't take into account internal planetary heating or the greenhouse effect so it is lower than expected.\n",
    "<div class=\"alert alert-block alert-success\">\n",
    "    \n",
    "Use the interactive below to find the 'Goldilocks Zone' for our Sun. This is the region where water could be liquid on an Earth like planet. Assume an albedo of $0.3$ for the Earth.\n",
    "\n",
    "Reminder for the sliders:\n",
    "\n",
    "- $a$ is the albedo of the body  \n",
    "- $D$ is the distance the body is from its star in AU  \n",
    "- $T$ is the surface temperature of the star in K  \n",
    "- $R$ is the radius of the star in solar radii\n",
    "\n",
    "</div>"
   ]
  },
  {
   "cell_type": "code",
   "execution_count": null,
   "metadata": {
    "jupyter": {
     "source_hidden": true
    },
    "tags": []
   },
   "outputs": [],
   "source": [
    "@interact(a=(0,1,0.1), D=(0.1,50,0.01), T=(2500,10000,1), R=(0.5,30,0.1))\n",
    "def eqT(a, D, T, R):\n",
    "    Rsun = 6.957*10**8 # m\n",
    "    R = R*Rsun\n",
    "    AU = 149597870700 # m\n",
    "    KtodegC = 273.15\n",
    "    degSymb = '\\u00b0'\n",
    "    D = D * AU\n",
    "    eqT = T*(1-a)**0.25*np.sqrt(R/2/D)\n",
    "    print(f\"The Equilibrium Temperature of this body is: {eqT:.0f} K or {eqT-KtodegC:.0f} {degSymb}C\")"
   ]
  },
  {
   "cell_type": "markdown",
   "metadata": {},
   "source": [
    "**Enter your answers:**    \n",
    "- Inner Goldilocks Zone Radius: _________ AU\n",
    "- Outer Goldilocks Zone Radius: _________ AU"
   ]
  },
  {
   "cell_type": "markdown",
   "metadata": {},
   "source": [
    "<br>\n",
    "We have made lots of assumptions during this section such as the albedo of the Earth is constant. What happens to the equilibrium temperature if the albedo changes? If the Earth was completely covered in ice the albedo would be roughly 0.84.\n",
    "<br>\n",
    "<br>\n",
    "Feel free to go back to the interactives and play around with the input parameters. Or perhaps tackle one of the challenges below.\n",
    "\n",
    "# Challenge <a class=\"anchor\" id=\"Challenges\"></a>\n",
    "\n",
    " 1) Try to recreate/improve my black-body curve image, **blackbodyCurves.png**  \n",
    " 2) Plot the actual solar spectrum using data from https://data.nodc.noaa.gov/cgi-bin/iso?id=gov.noaa.ncdc:C00899  \n",
    "    You will get something like this: https://en.wikipedia.org/wiki/File:EffectiveTemperature_300dpi_e.png  \n",
    " 3) Calculate the effective temperature of Mars, Venus, and Jupiter like we did for the Earth  \n",
    "    How do the values compare with the actual average surface temperatures?\n",
    "\n",
    "# References and Resources <a class=\"anchor\" id=\"References\"></a>\n",
    "\n",
    "Mihos, C. (2020) Stars and Planets, Url: http://burro.case.edu/Academics/Astr221/SolarSys/equiltemp.html\n",
    "\n",
    "## Sharing\n",
    "\n",
    "If you share, use or modify this activity in any way use the citation in this [txt file](https://github.com/astroDimitrios/Astronomy/blob/master/CITATION.txt).    \n",
    "Please contact me at astrodimitrios@gmail.com with any suggestions, mistakes found, or general questions about teaching astronomy with Python.\n",
    "\n",
    "© Dimitrios Theodorakis GNU General Public License v3.0 \u000b\n",
    "\n",
    "\n",
    "\n",
    "https://github.com/astroDimitrios/Astronomy  "
   ]
  }
 ],
 "metadata": {
  "kernelspec": {
   "display_name": "Python 3",
   "language": "python",
   "name": "python3"
  },
  "language_info": {
   "codemirror_mode": {
    "name": "ipython",
    "version": 3
   },
   "file_extension": ".py",
   "mimetype": "text/x-python",
   "name": "python",
   "nbconvert_exporter": "python",
   "pygments_lexer": "ipython3",
   "version": "3.6.13"
  }
 },
 "nbformat": 4,
 "nbformat_minor": 4
}
