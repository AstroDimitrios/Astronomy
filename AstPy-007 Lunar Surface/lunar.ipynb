{
 "cells": [
  {
   "cell_type": "markdown",
   "metadata": {},
   "source": [
    "Name: __________________ Class: __________________ Date: __________________"
   ]
  },
  {
   "cell_type": "markdown",
   "metadata": {},
   "source": [
    "<center>\n",
    "    <img width=\"100%\" src=\"https://raw.githubusercontent.com/astroDimitrios/Astronomy/main/APBanner.png\" alt='A&P Logo'>\n",
    "</center>\n",
    "\n",
    "# Lunar Surface\n",
    "\n",
    "## AIM - To compare our Moon image to known data and calculate some feature sizes\n",
    "Difficulty: Hard\n",
    "\n",
    "<div class=\"alert alert-block alert-warning\">\n",
    "    <strong>Note</strong> - You need an image of the Moon that you've taken for this activity, preferably with a telescope, which shows the terminus (first or third quarter moons are best). My demo image is in this directory under <strong>mymoon.jpg</strong>.\n",
    "</div>\n",
    "\n",
    "**Predict**\n",
    "\n",
    "Have a think about these questions and make some predictions! Be sure to tell someone else what you predict.\n",
    "\n",
    "1) Do the near and far sides of the Moon look the same?  \n",
    "2) What sort of surface features do you think you can find on the Moon?  \n",
    "3) How do we measure the height of the Moons surface?"
   ]
  },
  {
   "cell_type": "markdown",
   "metadata": {},
   "source": [
    "**Enter your predictions:**    \n",
    "1)    \n",
    "2)    \n",
    "3)    "
   ]
  },
  {
   "cell_type": "markdown",
   "metadata": {},
   "source": [
    "## Contents\n",
    "\n",
    "* [Start](#Start)\n",
    "* [Crater Width](#CWID)\n",
    "* [Crater Depth](#CDEP)\n",
    "* [LRO and LOLA Data](#LRO)\n",
    "* [Challenges](#Challenges)\n",
    "* [References](#References)\n",
    "* [Acknowledgements](#ACK)\n",
    "\n",
    "## Let's go: <a class=\"anchor\" id=\"Start\"></a>\n",
    "\n",
    "Import the required modules below:"
   ]
  },
  {
   "cell_type": "code",
   "execution_count": null,
   "metadata": {},
   "outputs": [],
   "source": [
    "# run me\n",
    "import numpy as np\n",
    "import pandas as pd\n",
    "import matplotlib.pyplot as plt\n",
    "from mpl_toolkits.mplot3d import Axes3D\n",
    "from IPython.display import Image\n",
    "from skyfield.api import PlanetaryConstants, load\n",
    "from scipy import ndimage\n",
    "from skimage import io\n",
    "%matplotlib widget"
   ]
  },
  {
   "cell_type": "markdown",
   "metadata": {},
   "source": [
    "In this notebook you will first compare your image of the Moon with a map from the Lunar and Planetary Institute (LPI). \n",
    "\n",
    "<div class=\"alert alert-block alert-success\">\n",
    "    Upload your image by clicking on <strong>File - Open</strong> which opens the dashboard view then the <strong>upload</strong> button on the top right. Rename it to <strong>mymoon.jpg</strong> (or png) and load it below:</div>"
   ]
  },
  {
   "cell_type": "code",
   "execution_count": null,
   "metadata": {},
   "outputs": [],
   "source": [
    "moon = io.imread('mymoon.jpg')"
   ]
  },
  {
   "cell_type": "markdown",
   "metadata": {},
   "source": [
    "A telescope will flip the image upside down so now rotate the image so the Moon is how you saw it with yours eyes in the sky.\n",
    "\n",
    "If you took the image with your phone then it may not need rotating.\n",
    "\n",
    "<div class=\"alert alert-block alert-success\">\n",
    "    Use the next cell to rotate your image and then run the cell after to plot your image.\n",
    "</div>"
   ]
  },
  {
   "cell_type": "code",
   "execution_count": null,
   "metadata": {},
   "outputs": [],
   "source": [
    "# Your image will need rotating since the telescope flips the image\n",
    "# you might have to change this angle from 225 degrees!\n",
    "moon_rot = ndimage.rotate(moon, 225)"
   ]
  },
  {
   "cell_type": "code",
   "execution_count": null,
   "metadata": {},
   "outputs": [],
   "source": [
    "# run me\n",
    "# Make a nice big figure\n",
    "fig, ax = plt.subplots(figsize=(10,10))\n",
    "ax.imshow(moon_rot, aspect='equal')\n",
    "ax.axis('off')\n",
    "plt.show()"
   ]
  },
  {
   "cell_type": "markdown",
   "metadata": {},
   "source": [
    "You should see your image of the Moon! Now you need to get the map (or maps) of the Moon for comparison from the LPI.\n",
    "<div class=\"alert alert-block alert-success\">\n",
    "\n",
    "1) Navigate to: https://www.lpi.usra.edu/resources/mapcatalog/LMP/ and download a map. I suggest you start with the Earthside map of the Moon (this file is also stored in this directory as **lunarnear.jpg**). This map shows the side of the Moon that we see but not at high or low latitudes. If you want to identify features at high or low latitudes I suggest you also download the Polar map.\n",
    "\n",
    "2) Identify at least 10 features in both your map and the LPI maps. You're going to annotate your image with these features.  \n",
    "<strong>ax.annotate()</strong> will draw an annotation with an arrow  \n",
    "<strong>ax.text()</strong> will just draw text on your image\n",
    "\n",
    "Example code for both is shown below. I suggest for features such as mare you use <strong>ax.text()</strong> and for smaller features you use <strong>ax.annotate()</strong>. Get the pixel coordinates for a feature by hovering over the figure. The x, y location should appear in the lower right hand corner.\n",
    "    \n",
    "</div>"
   ]
  },
  {
   "cell_type": "code",
   "execution_count": null,
   "metadata": {},
   "outputs": [],
   "source": [
    "# Re-running this code multiple times will overplot annotations \n",
    "# run the last cell again before this one to avoid overplotting\n",
    "\n",
    "# Example annotation make sure there is space for the arrow\n",
    "ax.annotate('Manilius', xy=(1300, 1312), xycoords='data', xytext=(900,1200), textcoords='data',\n",
    "            color='white', arrowprops=dict(arrowstyle='->', color='white'))\n",
    "# Example text (no arrow) - here \\n means new line\n",
    "ax.text(1480, 1060, 'Mare \\n Serenitatis', color='k', ha='center')\n",
    "\n",
    "# Your code here:\n"
   ]
  },
  {
   "cell_type": "markdown",
   "metadata": {},
   "source": [
    "The figure above should now have updated with your annotations.\n",
    "\n",
    "<div class=\"alert alert-block alert-success\">\n",
    "When you're happy with the annotated figure save it:</div>"
   ]
  },
  {
   "cell_type": "code",
   "execution_count": null,
   "metadata": {},
   "outputs": [],
   "source": [
    "fig.savefig('./images/mymoonAnnotated.png', dpi=200, bbox_inches='tight')"
   ]
  },
  {
   "cell_type": "markdown",
   "metadata": {},
   "source": [
    "# Crater Width <a class=\"anchor\" id=\"CWID\"></a>\n",
    "\n",
    "Great! But there must be more data we can extract from our image right?\n",
    "\n",
    "We can use information about our telescope and camera to work out the size of the features you labelled. Do do this we need to know a few things:\n",
    "\n",
    " - The size of the pixels on our camera in microns\n",
    " - The focal length of our telescope in mm\n",
    " \n",
    "You'll have to look up both these values online, perhaps google: Camera/Phone Model **Sensor** and then google the sensor. If you can't find it at all then a good approximation might be $1.3\\mu m$. If you used a Canon, Nikon, or professional CCD you can go to https://astronomy.tools/calculators/ccd_suitability and enter your camera there and it will display the pixel size for you.\n",
    "From these two pieces of information we can calculate the resolution of our camera:\n",
    "\n",
    "$$Resolution\\ [arc\\ seconds\\ per\\ pixel] = \\frac{Pixel\\ size\\ [\\mu m]}{Focal\\ length\\ [mm]}\\times206.265$$\n",
    "<div class=\"alert alert-block alert-success\">\n",
    "Use this formula to calculate the resolution of our camera:</div>"
   ]
  },
  {
   "cell_type": "code",
   "execution_count": null,
   "metadata": {},
   "outputs": [],
   "source": [
    "# Your code here:\n",
    "pixelSize =           # micro m\n",
    "fLength =             # mm\n",
    "const = 206.265\n",
    "# If you used a smartphone multiply your resolution by the focal length of your smartphone camera\n",
    "fLengthSmartphone = 1          # mm - found online!\n",
    "\n",
    "res = pixelSize/fLength*const*fLengthSmartphone\n",
    "res"
   ]
  },
  {
   "cell_type": "markdown",
   "metadata": {},
   "source": [
    "Now you have the resolution of your camera and telescope setup we can calculate the diameter of a crater.\n",
    "<div class=\"alert alert-block alert-success\">\n",
    "    Locate a crater near the terminus of the Moon and measure the width in pixels of the crater by hovering over the image:\n",
    "    </div>"
   ]
  },
  {
   "cell_type": "code",
   "execution_count": null,
   "metadata": {},
   "outputs": [],
   "source": [
    "# Your code here:\n",
    "dx = \n",
    "dx"
   ]
  },
  {
   "cell_type": "markdown",
   "metadata": {},
   "source": [
    "We can use trigonometry to calculate the width of the crater. The angle, ```theta```, in our triangle is the width in pixels of the crater, ```dx```, times our resolution, ```res```, then converted to radians. The adjacent side is the distance to that lunar feature from Earth, ```dist```. The opposite is then the width of the crater. Using our trig functions we find ```width = np.tan(theta)*dist```.\n",
    "\n",
    "Take a moment to draw this triangle out and make sure you understand what it represents.\n",
    "\n",
    "We can either use the average distance to the moon for the ```dist``` or better yet we can use a package called **SkyField** which will claculate the distance to that lunar feature.\n",
    "\n",
    "<div class=\"alert alert-block alert-success\">Adapt the SkyField code below to calculate the distance to the lunar crater you want to measure the height of:</div>"
   ]
  },
  {
   "cell_type": "code",
   "execution_count": null,
   "metadata": {},
   "outputs": [],
   "source": [
    "# Your code here:\n",
    "ts = load.timescale(builtin=True)\n",
    "# Change this to the time of your observation - year, month, day, hour, min\n",
    "t = ts.utc(2019, 12, 3, 17, 32)\n",
    "\n",
    "eph = load('de421.bsp')\n",
    "earth, moonSky = eph['earth'], eph['moon']\n",
    "\n",
    "pc = PlanetaryConstants()\n",
    "pc.read_text(load('moon_080317.tf'))\n",
    "pc.read_text(load('pck00008.tpc'))\n",
    "pc.read_binary(load('moon_pa_de421_1900-2050.bpc'))\n",
    "\n",
    "frame = pc.build_frame_named('MOON_ME_DE421')\n",
    "# Change the name of the next variable to the name of the crater you chose\n",
    "# look up its latitude and longitude and enter them on the line below\n",
    "# remember South lats and W longs are entered as negative numbers\n",
    "theophilus = moonSky + pc.build_latlon_degrees(frame, 26.4, -11.4)\n",
    "\n",
    "# Change the crater name in the next line\n",
    "apparent = earth.at(t).observe(theophilus).apparent()\n",
    "ra, dec, distance = apparent.radec(epoch='date')\n",
    "distance"
   ]
  },
  {
   "cell_type": "markdown",
   "metadata": {},
   "source": [
    "We have the distance to our feature!<div class=\"alert alert-block alert-success\"> Let's convert it to km:</div>"
   ]
  },
  {
   "cell_type": "code",
   "execution_count": null,
   "metadata": {},
   "outputs": [],
   "source": [
    "dist = distance.km\n",
    "dist"
   ]
  },
  {
   "cell_type": "markdown",
   "metadata": {},
   "source": [
    "<div class=\"alert alert-block alert-success\">Now calculate the width of the crater:</div>"
   ]
  },
  {
   "cell_type": "code",
   "execution_count": null,
   "metadata": {},
   "outputs": [],
   "source": [
    "# Your code here:\n",
    "theta =                        # *np.pi/(180*3600) converts arcseconds to radians\n",
    "width =  \n",
    "# Change the longitude in the correction to the longitude of your crater (ignore minus signs)\n",
    "correction = np.cos(11.4*(np.pi/180))\n",
    "width = width/correction\n",
    "print(f\"Crater width = {width:.2f} km\")"
   ]
  },
  {
   "cell_type": "markdown",
   "metadata": {},
   "source": [
    "<div class=\"alert alert-block alert-info\">Does this value match up with the accepted value online? If not why? You should have gotten pretty close.</div>\n",
    "\n",
    "You'll notice I added a correction term based on the crater's longitude. This takes into account the fact that we are seeing the crater at an angle and not face on unless it lies exactly at a longitude of zero.\n",
    "\n",
    "<div class=\"alert alert-block alert-success\">\n",
    "Be sure to add this value to your annotations (don't re-save your figure yet we'll do that later).</div>"
   ]
  },
  {
   "cell_type": "code",
   "execution_count": null,
   "metadata": {},
   "outputs": [],
   "source": [
    "# alter the text annotation below\n",
    "text1 = f\"Theophilus\\nMy width = {int(width)} km \\nActual width = 100 km\"\n",
    "ax.annotate(text1, xy=(1614, 1725), xycoords='data', xytext=(760,1680), textcoords='data',\n",
    "            color='white', arrowprops=dict(arrowstyle='->', color='white'), ha='center')"
   ]
  },
  {
   "cell_type": "markdown",
   "metadata": {},
   "source": [
    "# Crater Depth <a class=\"anchor\" id=\"CDEP\"></a>\n",
    "\n",
    "Now you need to choose another crater close to the terminus where you can clearly see a shadow in the crater. We are going to use the shadow to calculate the depth of the crater. First let's calculate the width of the crater like before.\n",
    "\n",
    "<div class=\"alert alert-block alert-success\">\n",
    "    \n",
    "1) Choose another crater\n",
    "2) Calculate its width using the cell below\n",
    "    \n",
    "</div>"
   ]
  },
  {
   "cell_type": "code",
   "execution_count": null,
   "metadata": {},
   "outputs": [],
   "source": [
    "# Your code here:\n",
    "dx2 = \n",
    "\n",
    "# Change the name of the next variable to the name of the crater you chose\n",
    "# look up its latitude and longitude and enter them on the line below\n",
    "# remember South lats and W longs are entered as negative numbers\n",
    "abulfeda = moonSky + pc.build_latlon_degrees(frame, -13.8, 13.9)\n",
    "\n",
    "# Change the crater name in the next line\n",
    "apparent2 = earth.at(t).observe(abulfeda).apparent()\n",
    "ra2, dec2, distance2 = apparent2.radec(epoch='date')\n",
    "\n",
    "dist2 = distance2.km\n",
    "\n",
    "theta2 =                       # *np.pi/(180*3600) converts arcseconds to radians\n",
    "width2 =  \n",
    "# Change the longitude in the correction to the longitude of your crater (ignore minus signs)\n",
    "correction2 = np.cos(13.9*(np.pi/180))\n",
    "width2 = width2/correction2\n",
    "width2\n",
    "print(f\"Crater width = {width2:.2f} km\")"
   ]
  },
  {
   "cell_type": "markdown",
   "metadata": {},
   "source": [
    "So we have our width like before but how do we calculate the depth?\n",
    "\n",
    "Look at this figure from the University of Iowa (found [here](http://astro.physics.uiowa.edu/ITU/labs/observational-labs/studying-the-moon/measure-the-height-of-lunar/)):"
   ]
  },
  {
   "cell_type": "code",
   "execution_count": null,
   "metadata": {},
   "outputs": [],
   "source": [
    "# run me\n",
    "Image('./figures/lunarcrater_med.png')"
   ]
  },
  {
   "cell_type": "markdown",
   "metadata": {},
   "source": [
    "Pause and come up with the trig relationship between $H$, $L$, and $\\theta$.\n",
    "\n",
    "Now look at this second figure also from the University of Iowa:"
   ]
  },
  {
   "cell_type": "code",
   "execution_count": null,
   "metadata": {},
   "outputs": [],
   "source": [
    "# run me\n",
    "Image('./figures/earthmoonsuntri_med.png')"
   ]
  },
  {
   "cell_type": "markdown",
   "metadata": {},
   "source": [
    "It shows the sun illuminating a portion of the Moon and our view from Earth. Here $R$ is the radius of the Moon and $d$ is the distance from the terminator to the crater. Take a moment to get a trig relationship between $R$, $d$, and $\\theta$.\n",
    "\n",
    "If we use the small angle approximation:\n",
    "\n",
    "$$tan\\theta = sin\\theta = \\theta$$\n",
    "\n",
    "which holds for angles less than $\\approx 10\\ \\deg$ we can combine these two trig identities to get the formula for the height of the crater:\n",
    "\n",
    "$$H\\approxeq L\\times\\frac{d}{R}$$\n",
    "\n",
    "- For $R$ the radius of the Moon we will use $R = 1737.1\\ km$\n",
    "- $d$ is the distance from the terminator to the crater centre\n",
    "- $L$ is the width of the shadow cast by the craters edge\n",
    "\n",
    "<div class=\"alert alert-block alert-info\">\n",
    "Pause here and ensure you followed the math. Try to get a formula for theta from both images and equate them.</div>\n",
    "\n",
    "<div class=\"alert alert-block alert-success\">\n",
    "To calculate $L$ work out the:\n",
    "    \n",
    "1) width in pixels of the crater shadow by hovering over the image, this is <strong>dxShadow</strong>\n",
    "2) Divide that by the width in pixels of the crater, <strong>dx2</strong>. This gives you the fraction of the total width of the crater in km that the shadow covers\n",
    "3) Times this ratio by the whole width of the crater in $km$\n",
    "    \n",
    "</div>"
   ]
  },
  {
   "cell_type": "code",
   "execution_count": null,
   "metadata": {},
   "outputs": [],
   "source": [
    "# Your code here:\n",
    "dxShadow =  \n",
    "ratio =  \n",
    "L =  \n",
    "print(f\"L, Crater Shadow Width = {L:.2f} km\")"
   ]
  },
  {
   "cell_type": "markdown",
   "metadata": {},
   "source": [
    "<div class=\"alert alert-block alert-success\">Now measure $d$ in pixels from your image. Remember $d$ is the distance from the terminator to the center of the crater.</div>"
   ]
  },
  {
   "cell_type": "code",
   "execution_count": null,
   "metadata": {},
   "outputs": [],
   "source": [
    "# Your code here:\n",
    "d =  \n",
    "d"
   ]
  },
  {
   "cell_type": "markdown",
   "metadata": {},
   "source": [
    "<div class=\"alert alert-block alert-success\">Convert this $d$ into an angle using the resolution from earlier and then turn that angle into a distance:</div>"
   ]
  },
  {
   "cell_type": "code",
   "execution_count": null,
   "metadata": {},
   "outputs": [],
   "source": [
    "# Your code here:\n",
    "theta_d =  \n",
    "d_km =  "
   ]
  },
  {
   "cell_type": "markdown",
   "metadata": {},
   "source": [
    "<div class=\"alert alert-block alert-success\">All that's left is to calculate $H$:</div>"
   ]
  },
  {
   "cell_type": "code",
   "execution_count": null,
   "metadata": {},
   "outputs": [],
   "source": [
    "# Your code here:\n",
    "H =  \n",
    "print(f\"The crater height H = {H:.2f} km\")"
   ]
  },
  {
   "cell_type": "markdown",
   "metadata": {},
   "source": [
    "<div class=\"alert alert-block alert-info\">How does your value compare to the actual value?</div>\n",
    "\n",
    "In our code we just used dx values for widths assuming we rotated our image perfectly at the start. To get more accurate distances we should have calculated the distance between two x, y points using trig. If you have time go back and make these changes. How do your values change?\n",
    "<div class=\"alert alert-block alert-success\">\n",
    "Let's now add this new crater info onto your image and save it one last time:</div>"
   ]
  },
  {
   "cell_type": "code",
   "execution_count": null,
   "metadata": {},
   "outputs": [],
   "source": [
    "# alter the text annotation below\n",
    "text2 = f'Abulfeda\\nMy width = {int(width2)} km\\nActual width = 62 km\\nMy depth = {H:.1f} km\\nActual depth = 3.1 km'\n",
    "ax.annotate(text2, xy=(1410, 1796), xycoords='data', xytext=(770, 2170), textcoords='data',\n",
    "            color='white', arrowprops=dict(arrowstyle='->', color='white'), ha='center')"
   ]
  },
  {
   "cell_type": "markdown",
   "metadata": {},
   "source": [
    "<div class=\"alert alert-block alert-success\">\n",
    "    Let's add a simple title and save the figure for the last time:\n",
    "</div>"
   ]
  },
  {
   "cell_type": "code",
   "execution_count": null,
   "metadata": {},
   "outputs": [],
   "source": [
    "# alter the text for the title below\n",
    "ax.text(1330, 188, 'Dimitrios Moon Obs\\n2019-12-03 17:32', color='w', ha='center')\n",
    "fig.savefig('./images/mymoonAnnotated.png', dpi=200, bbox_inches='tight')"
   ]
  },
  {
   "cell_type": "markdown",
   "metadata": {},
   "source": [
    "# LRO and LOLA <a class=\"anchor\" id=\"LRO\"></a>\n",
    "\n",
    "When you've been looking up some of the features/craters for your image you will have noticed some very nice pictures. Some of these are from the Lunar Reconnaissance Orbiter ([LRO](http://lroc.sese.asu.edu/)) and the Lunar Orbiter Laser Altimeter ([LOLA](https://lola.gsfc.nasa.gov/)).\n",
    "\n",
    "<div class=\"alert alert-block alert-success\">\n",
    "    \n",
    "1) Explore the LRO site for images of features you labelled to compare to your image. I suggest you start by heading to their Archive tab then the Lunaserv Global Explorer which will let you explore all of the Moons surface. Zoom in and take some screenshots of the features you labelled. You can also explore LRO data using the JMARS tool [here](https://jmars.mars.asu.edu/).\n",
    "\n",
    "2) When you've found an image or screenshotted one of a crater you previously labelled upload it as a jpeg to Jupyter (File - Open will take you to the dashboard then use the Upload button). We're going to plot this image next to an enlarged section of your image centered on that crater: \n",
    "\n",
    "</div>"
   ]
  },
  {
   "cell_type": "code",
   "execution_count": null,
   "metadata": {},
   "outputs": [],
   "source": [
    "fig2 = plt.figure(num=2, figsize=(8,8))\n",
    "ax1 = plt.subplot2grid((2,2), (0,0), rowspan=1, colspan=2)\n",
    "ax2 = plt.subplot2grid((2,2), (1,0), rowspan=1)\n",
    "ax3 = plt.subplot2grid((2,2), (1,1), rowspan=1)\n",
    "ax1.axis('off')\n",
    "ax2.axis('off')\n",
    "ax3.axis('off')\n",
    "\n",
    "# The top of this graph will show our moon image unrotated\n",
    "ax1.imshow(moon, aspect='equal')\n",
    "\n",
    "# The next image we will crop our image to 'zoom into' the crater\n",
    "# hover over the top of our first image, top of the notebook, to get the x, y points\n",
    "# enter the numbers in the line below, [ymin:ymax, xmin,xmax, :]\n",
    "moon_rot_crop = moon_rot[1690:1770, 1600:1670, :]\n",
    "# If you need to rotate your image so it lines up with the LRO image uncomment the next line\n",
    "# moon_rot_crop = ndimage.rotate(moon_cropped, 190)\n",
    "ax2.imshow(moon_rot_crop, aspect='equal')\n",
    "\n",
    "# Load and plot the LRO image you downloaded/screenshotted in the bottom right\n",
    "lro = io.imread('./figures/theophilusLROC.jpg')\n",
    "ax3.imshow(lro, aspect='equal')\n",
    "\n",
    "# Change the title!\n",
    "Title = 'Dimitrios Full Moon Obs 2019-12-03 17:32\\nBottom Left: Theophilus Crater Enlarged\\nBottom Right: Theophilus Crater LROC'\n",
    "plt.suptitle(Title)\n",
    "plt.subplots_adjust(wspace=0.1, hspace=0.1)\n",
    "plt.show()"
   ]
  },
  {
   "cell_type": "markdown",
   "metadata": {},
   "source": [
    "<div class=\"alert alert-block alert-success\">When you're happy with this figure save it:</div>"
   ]
  },
  {
   "cell_type": "code",
   "execution_count": null,
   "metadata": {},
   "outputs": [],
   "source": [
    "fig2.savefig('./images/theophilusCraterComparison.png', dpi=200)"
   ]
  },
  {
   "cell_type": "markdown",
   "metadata": {},
   "source": [
    "Where does LOLA fit in you ask? LOLA measures the height of the lunar surface using lasers. You can see the products of the LOLA satellite on their website. The data from LOLA is used to make digital elevation models (DEM) of the lunar surface at a very high resolution.\n",
    "\n",
    "I have included some LOLA data for you to look at if you want. The LOLA DEM is stored [here](https://drive.google.com/drive/folders/1kXCnfm2d2YGzs8HBQrQYu388HK6nvkzc?usp=sharing) as an IMG file. If you want to explore this data download it now. Open it up with a text editor to examine the header. It has lots of useful information like the resolution.\n",
    "\n",
    "The program Generic Mapping Tools ([GMT](https://www.generic-mapping-tools.org/)) can be used to convert this IMG data file to a standard image format for viewing.\n",
    "\n",
    "<div class=\"alert alert-block alert-warning\">\n",
    "    The next code cell relies on the program <strong>GMT</strong> which you must have installed separately. If you do not have <strong>GMT</strong> installed skip the next cell.\n",
    "</div>"
   ]
  },
  {
   "cell_type": "code",
   "execution_count": null,
   "metadata": {},
   "outputs": [],
   "source": [
    "# the ! infront of the command lets Jupyter know we want to run this in the command line\n",
    "!gmt xyz2grd -ZTLf LDEM_16_FLOAT.IMG -GLDEM_16_FLOAT.GRD -R0/360/-90/90 -I0.0625 -r"
   ]
  },
  {
   "cell_type": "markdown",
   "metadata": {},
   "source": [
    "Now let's load the result:"
   ]
  },
  {
   "cell_type": "code",
   "execution_count": null,
   "metadata": {},
   "outputs": [],
   "source": [
    "# run me even if you don't have gmt\n",
    "Image('./figures/Lunar_LROC_WAC_GLD100_ClrShade_79s79n_9216.jpg')"
   ]
  },
  {
   "cell_type": "markdown",
   "metadata": {},
   "source": [
    "Wow! This is a cylindrical projection of the entire lunar surface with blue areas lower than black (high) areas.\n",
    "\n",
    "If you want to look at more of the data products from both LRO and LOLA head on over to the Lunar Orbiter section of the [PDS Geoscience Node](https://ode.rsl.wustl.edu/moon/index.aspx) at Washington University.\n",
    "\n",
    "I have included some raw LOLA data as csv's for you to have a play with in pandas and matplotlib in the subdirectory **./catalan/RDR_272E273E_46p130529S45SPointPerRow_csv_table** (now stored on Google Drive [here](https://drive.google.com/drive/folders/1kXCnfm2d2YGzs8HBQrQYu388HK6nvkzc?usp=sharing)). This data is centered on the Catalan crater. Each .csv file has an associated .lbl file with information about the .csv file (like a header).\n",
    "\n",
    "This animation of the Catalan crater was made with the **RDR_272E273E_46p130529S45STopoFull_csv_table.csv** file and matplotlib's 3D plotting functionality (the code is stored in **./catalan/catalan.py**)."
   ]
  },
  {
   "cell_type": "code",
   "execution_count": null,
   "metadata": {},
   "outputs": [],
   "source": [
    "# run me\n",
    "Image('./catalan/catalan.gif')"
   ]
  },
  {
   "cell_type": "markdown",
   "metadata": {},
   "source": [
    "# Challenge <a class=\"anchor\" id=\"Challenges\"></a>\n",
    "\n",
    "1) Change the code we used to calculate width and depths of craters to use x,y points to calculate crater widths in pixels as described above  \n",
    "2) Have a go at processing the included LOLA data on the Catalan crater  \n",
    "3) Change the code to use the method described in the University of Exeter reference to calculate depths which doesn't rely on the small angle approximation  \n",
    "\n",
    "Here is a code snippet you could add after the first calls to SkyField to get the [sub Earth](https://rhodesmill.org/skyfield/planetary.html#computing-lunar-libration) and sub Solar points on the moon for the Exeter method. I have added an ***exeter.py*** file with this code snippet and the lines after which calculate the height with this method (you get more accurate heights!).\n",
    "\n",
    "```\n",
    "sun = eph['sun']\n",
    "\n",
    "p = (earth - moonSky).at(t)\n",
    "latSubE, lonSubE, distanceSubE = p.frame_latlon(frame)\n",
    "lonSubE_degrees = (lonSubE.degrees - 180.0) % 360.0 - 180.0\n",
    "print('sub-Earth point latitude: {:.3f}'.format(latSubE.degrees))\n",
    "print('sub-Earth point longitude: {:.3f}'.format(lonSubE_degrees))\n",
    "\n",
    "p2 = (sun - moonSky).at(t)\n",
    "latSubS, lonSubS, distanceSubS = p2.frame_latlon(frame)\n",
    "lonSubS_degrees = (lonSubS.degrees - 180.0) % 360.0 - 180.0\n",
    "print('sub-Solar point latitude: {:.3f}'.format(latSubS.degrees))\n",
    "print('sub-Solar point longitude: {:.3f}'.format(lonSubS_degrees))\n",
    "```\n",
    "\n",
    "4) HARD - Have a go at looking at or processing LRO/LOLA data with GMT and the PDS Geoscience Node\n",
    "\n",
    "# References <a class=\"anchor\" id=\"References\"></a>\n",
    "\n",
    "Resolution of ccd/telescope, Astronomy Tools, https://astronomy.tools/calculators/ccd_suitability  \n",
    "Depth of Craters - Univeristy of Iowa, http://astro.physics.uiowa.edu/ITU/labs/observational-labs/studying-the-moon/measure-the-height-of-lunar/  \n",
    "Crater Diameters - University of Exeter, http://www.astro.ex.ac.uk/obs/experiments/lunar/script.html  \n",
    "\n",
    "Lunar Orbital Data Explorer, PDS Geosciences Node - Washington University, https://ode.rsl.wustl.edu/moon/index.aspx    \n",
    "JMARS Tool, https://jmars.mars.asu.edu/  \n",
    "Lunar Reconnaissance Orbiter, http://lroc.sese.asu.edu/  \n",
    "Lunar Orbiter Laser Altimeter, https://lola.gsfc.nasa.gov/\n",
    "\n",
    "# Acknowledgements <a class=\"anchor\" id=\"ACK\"></a>\n",
    "\n",
    "Thanks to [Dr. John Keller](https://science.gsfc.nasa.gov/sed/bio/john.w.keller) for his guidance towards the GMT tool and processing of LOLA .IMG data files.\n",
    "\n",
    "Thanks also to Brandon Rhodes author of the [SkyField](https://rhodesmill.org/skyfield/) package for advice on calculating sub-Earth and sub-Solar points on the Moon.\n",
    "\n",
    "## Sharing\n",
    "\n",
    "If you share, use or modify this activity in any way use the citation in this [txt file](https://github.com/astroDimitrios/Astronomy/blob/master/CITATION.txt).    \n",
    "Please contact me at astrodimitrios@gmail.com with any suggestions, mistakes found, or general questions about teaching astronomy with Python.\n",
    "\n",
    "© Dimitrios Theodorakis GNU General Public License v3.0 \u000b\n",
    "\n",
    "\n",
    "\n",
    "https://github.com/astroDimitrios/Astronomy  "
   ]
  }
 ],
 "metadata": {
  "kernelspec": {
   "display_name": "Python 3 (ipykernel)",
   "language": "python",
   "name": "python3"
  },
  "language_info": {
   "codemirror_mode": {
    "name": "ipython",
    "version": 3
   },
   "file_extension": ".py",
   "mimetype": "text/x-python",
   "name": "python",
   "nbconvert_exporter": "python",
   "pygments_lexer": "ipython3",
   "version": "3.9.12"
  }
 },
 "nbformat": 4,
 "nbformat_minor": 4
}
