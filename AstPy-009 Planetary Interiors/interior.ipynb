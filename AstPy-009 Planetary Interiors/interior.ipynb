{
 "cells": [
  {
   "cell_type": "markdown",
   "metadata": {},
   "source": [
    "Name: __________________ Class: __________________ Date: __________________"
   ]
  },
  {
   "cell_type": "markdown",
   "metadata": {},
   "source": [
    "<center>\n",
    "    <img width=\"100%\" src=\"https://raw.githubusercontent.com/astroDimitrios/Astronomy/main/APBanner.png\" alt='A&P Logo'>\n",
    "</center>\n",
    "\n",
    "# Planetary Interiors\n",
    "\n",
    "### AIM - Visualise the interiors of planets, know how scientists build a picture of planetary interiors, explore the chemical composition of the Earth\n",
    "Difficulty: Easy\n",
    "\n",
    "**Predict**\n",
    "\n",
    "Have a think about these questions and make some predictions! Be sure to tell someone else what you predict.\n",
    "\n",
    "1) How do we know what the interiors of planets look like?  \n",
    "2) Are all planets interiors the same? Are there differences between the rocky planets and the gas giants?      \n",
    "2) What layers does the moon have? Is it similar to any of the planets?"
   ]
  },
  {
   "cell_type": "markdown",
   "metadata": {},
   "source": [
    "**Enter your predictions:**    \n",
    "1)    \n",
    "2)    \n",
    "3)    "
   ]
  },
  {
   "cell_type": "markdown",
   "metadata": {},
   "source": [
    "## Contents\n",
    "\n",
    "* [Start](#Start)\n",
    "* [How do we know what's inside?](#How)\n",
    "* [Composition of the Earth's Interior](#Comp)\n",
    "* [Challenges](#Challenges)\n",
    "* [References](#References)\n",
    "\n",
    "# Let's go: Visualising Interiors <a class=\"anchor\" id=\"Start\"></a>\n",
    "\n",
    "You have been provided with some data about the layers (and their depths) inside the planets.\n",
    "<div class=\"alert alert-block alert-success\">Let's load this data now and look at what we've got:</div>"
   ]
  },
  {
   "cell_type": "code",
   "execution_count": null,
   "metadata": {},
   "outputs": [],
   "source": [
    "# run me\n",
    "import numpy as np\n",
    "import pandas as pd\n",
    "from IPython.display import Image\n",
    "import matplotlib.pyplot as plt\n",
    "from matplotlib.patches import Circle\n",
    "from mpl_toolkits.axes_grid1.inset_locator import inset_axes"
   ]
  },
  {
   "cell_type": "code",
   "execution_count": null,
   "metadata": {},
   "outputs": [],
   "source": [
    "# run me\n",
    "file = 'structure.csv'\n",
    "df = pd.read_csv(file)\n",
    "df.head()"
   ]
  },
  {
   "cell_type": "markdown",
   "metadata": {},
   "source": [
    "We can see this file has information for each layer of the planets including the moon! The ```name``` gives us the name of the layer. The ```depth_order``` is the order of the layers starting in the centre (or the core) with zero. There are also colours for plotting.\n",
    "\n",
    "The ```layer_type``` column tells us whether the layer is compositional or mechanical. Mechanical layers correspond the rock/materials (rheology) of the interior. Compositional layers can often be split into mechanical layers. The Earth's core can be split into two mechanical layers, the inner core which is solid, and the outer core which is liquid.\n",
    "<div class=\"alert alert-block alert-success\">\n",
    "Try selecting just the layers for Mars below:</div>"
   ]
  },
  {
   "cell_type": "code",
   "execution_count": null,
   "metadata": {},
   "outputs": [],
   "source": [
    "# Your code here:\n",
    "mars = df.loc['''Your code here''']\n",
    "mars"
   ]
  },
  {
   "cell_type": "markdown",
   "metadata": {},
   "source": [
    "Here we can see that Mars has four compositional layers and that the mantle can be split up into three mechanical layers based on differences in rheology throughout the mantle.\n",
    "\n",
    "Let's select the compositional layers only for now and plot them. We won't plot a tradiational line or scatter graph. Instead we can use the matplotlib Circle patch to draw circles on our axes. You'll end up with a planet cross section with the smallest circle in the middle as the core etc.\n",
    "\n",
    "<div class=\"alert alert-block alert-success\">\n",
    "Let's get the compositional layer values for Mars that we need for plotting:</div>"
   ]
  },
  {
   "cell_type": "code",
   "execution_count": null,
   "metadata": {},
   "outputs": [],
   "source": [
    "# Your code here:\n",
    "# extract just Mars' compositional layers\n",
    "mars = mars.loc['''Your code here''']\n",
    "# we will need the following columns: depth_from_center, depth_order, name, and color\n",
    "depth_from_center = mars['''Your code here'''].values\n",
    "colors = '''Your code here'''\n",
    "layers = '''Your code here'''\n",
    "# this one is done for you since we need to invert the depth order to pass to matplotlib's zorder argument\n",
    "# a higher order for the core will make sure it isn't plotted over by the circles for the outer layers\n",
    "zorders = mars['depth_order'].values[::-1] "
   ]
  },
  {
   "cell_type": "markdown",
   "metadata": {},
   "source": [
    "Excellent now we can start plotting. When we draw the circles we are going to specify a radius using the ```depth_from_center``` values. We will also scale the radii of the circles we draw by dividing each radius by the radius of the planet. This will make sure our plot is between ```(-1, 1)``` on both axes (this is not necessary but useful when making other more complicated plots).\n",
    "\n",
    "<div class=\"alert alert-block alert-success\">\n",
    "    Complete the code below to make your first figure:\n",
    "</div>"
   ]
  },
  {
   "cell_type": "code",
   "execution_count": null,
   "metadata": {},
   "outputs": [],
   "source": [
    "# Your code here:\n",
    "radius = depth_from_center[-1]\n",
    "\n",
    "# setup the figure and axes\n",
    "fig = plt.figure(num=1, figsize=(10, 10))\n",
    "ax = plt.subplot()\n",
    "mars_toScale = []\n",
    "\n",
    "# for each layer in the mars dataframe\n",
    "for i in range(len(mars)):\n",
    "    # get the current depth_from_center value and divide it by the radius\n",
    "    height = '''Your code here'''\n",
    "    # create the circle patch\n",
    "    circle = Circle((0, 0), '''Your code here''', color=colors[i], zorder=zorders[i], label=layers[i])\n",
    "    # add it to the axis\n",
    "    ax.add_artist('''Your code here''')\n",
    "    # append the patch to our list, we'll use this to construct our legend later\n",
    "    mars_toScale.append(circle)\n",
    "\n",
    "# here do 4 things: set axes limits of -1.4 to +1.4, set the aspect of each axes to be equal\n",
    "#   turn the axis off so we don't see the numbers or lines, and add a legend\n",
    "ax.set_xlim('''Your code here''', '''Your code here''')\n",
    "ax.set_ylim('''Your code here''', '''Your code here''')\n",
    "ax.set_aspect('''Your code here''')\n",
    "ax.axis('''Your code here''')\n",
    "ax.legend(mars_toScale, layers, loc='upper center', bbox_to_anchor=(0.525, 0.1), ncol=2, frameon=False)"
   ]
  },
  {
   "cell_type": "markdown",
   "metadata": {},
   "source": [
    "So cool! The crust is very thin compared to the mantle and the core.\n",
    "\n",
    "<div class=\"alert alert-block alert-success\">\n",
    "    Use the save button to save the figure or run the code below with an appropriate name.\n",
    "</div>"
   ]
  },
  {
   "cell_type": "code",
   "execution_count": null,
   "metadata": {},
   "outputs": [],
   "source": [
    "plt.savefig('./your_figures/NAME.png', dpi=200)"
   ]
  },
  {
   "cell_type": "markdown",
   "metadata": {},
   "source": [
    "Now try these two tasks:\n",
    "\n",
    "<div class=\"alert alert-block alert-success\">\n",
    "    \n",
    "1) Plot the compostional layers for the other planets using the code above. Are there any similarities/differences?  \n",
    "Hint: You can just change the third code block where we selected the object and re run the rest of the above code.\n",
    "\n",
    "2) Plot the mechanical layers for the rocky planets (and the moon). Does each rocky planet have the same mechanical layers? Can you explain the differences?\n",
    "</div>\n",
    "\n",
    "When you've finished run the code below to see some images made with **structure_plots.py** and check to see whether your observations match mine:"
   ]
  },
  {
   "cell_type": "code",
   "execution_count": null,
   "metadata": {},
   "outputs": [],
   "source": [
    "# run me\n",
    "Image('./figures/rocky_interiors_compositional_simpLegend.png')"
   ]
  },
  {
   "cell_type": "markdown",
   "metadata": {},
   "source": [
    "This graphic shows the relative sizes of compositional layers in the rocky planets. All of them have a core, mantle, and crust. The cores seem to be a similar size, relative to the radius of the planet except for Mercury which has a giant metallic core.\n",
    "\n",
    "The cores are all primary iron (with Mercury having the highest iron content in its core). The rest of the rocky planets are metals, silicates (like silicon dioxide or quartz in its common form), and sulphides."
   ]
  },
  {
   "cell_type": "code",
   "execution_count": null,
   "metadata": {},
   "outputs": [],
   "source": [
    "# run me\n",
    "Image('./figures/ice_giant_interiors_compositional.png')"
   ]
  },
  {
   "cell_type": "markdown",
   "metadata": {},
   "source": [
    "This graphic shows the layers for the gas giants. Notice the difference between the two gas giants, Jupiter and Saturn, and the ice giants, Neptune and Uranus. Jupiter and Saturn are both large enough to compress hydrogen into its metallic form. Notice the cores of each pair are similar in size.\n",
    "\n",
    "The giant planets mimic the composition of the sun although they may have rocky cores. Jupiter and Saturn are roughly 75% hydrogen and 25% helium with ices of water, methane, nitrogen, and carbon dioxide to name a few."
   ]
  },
  {
   "cell_type": "code",
   "execution_count": null,
   "metadata": {},
   "outputs": [],
   "source": [
    "# run me\n",
    "Image('./figures/comp_vs_mech/earth_comp_vs_mech.png')"
   ]
  },
  {
   "cell_type": "markdown",
   "metadata": {},
   "source": [
    "This graphic shows the difference in compositional and mechanical layers for the Earth. Note here I have not displayed a difference between oceanic and continental crust (which is much thicker than oceanic crust). The core is split into the inner and outer core, the outer core being liquid and the inner solid. Likewise the mantle is split into three layers. The mesosphere where convection occurs (but the material is still solid), the athenosphere which is a less fluid region of weaker rock, and the lithosphere (which technically includes the crust) and is rigid. Layer boundaries are defined by properties such as the speed of seismic waves through the material.\n",
    "\n",
    "## How do we know what's inside? <a class=\"anchor\" id=\"How\"></a>\n",
    "\n",
    "The picture of planetary interiors comes from the combination of multiple pieces of data:\n",
    "\n",
    "1) Seismic waves tell us about changes in materials with depth and that the outer core is liquid since p (shear) waves can't travel through it.  \n",
    "2) We can calculate the density and mass of the planet from its iteractions with other planets and satellites.  \n",
    "3) We know the overall composition of the planets since it should be similar to the material the sun was made from and chondrites which are a class of meteorite unchanged since the formation of the solar systems.  \n",
    "4) We know the composition of the crust and upper mantle from samples of rocks.  \n",
    "5) We can work out the main materials in the lower layers by exerting minerals to very high pressures and temperatures in a lab.  \n",
    "6) The Earth has a magnetic field so it must have a liquid layer of metallic elements.  \n",
    "7) We can compare the composition of the crust to that of the mantle and core to work out where certain elements are concentrated.  \n",
    "\n",
    "We know from our models of planet formation that planets undergo chemical differentiation when forming. This is when the heavier elements fall to the planets centre and the lighter rise to the top as the planet is still molten. Differentiation stops when the planet has cooled enough. We will look deeper into the chemical composition of the Earth's interior in a later notebook.\n",
    "\n",
    "# Composition of the Earth's Interior <a class=\"anchor\" id=\"Comp\"></a>\n",
    "\n",
    "Let's look a bit at the composition of the Earth's interior since we know the most about it. The file **earth_chem_interior.csv** has some data on the elemental compostion of the Earth's layers and **earth_chem_crust.csv** has a more detailed break down for just the continental crust.\n",
    "\n",
    "<div class=\"alert alert-block alert-success\">\n",
    "Load the first csv and take a look at the data using the pandas function ```head()```.\n",
    "</div>"
   ]
  },
  {
   "cell_type": "code",
   "execution_count": null,
   "metadata": {},
   "outputs": [],
   "source": [
    "# Your code here:\n",
    "file2 = 'earth_chem_interior.csv'\n",
    "df2 = pd.read_csv(file2)\n",
    "'''Your code here'''"
   ]
  },
  {
   "cell_type": "markdown",
   "metadata": {},
   "source": [
    "Here we have the composition of some layers of the Earth and the percentage composition of the element. Note some data is missing and is represented by a ```NaN``` or Not a Number! The bulk row gives the overall composition for the Earth.\n",
    "\n",
    "<div class=\"alert alert-block alert-success\">\n",
    "Let's look at a few elements, Si, Fe, and Ni. Get the values for their percentage of the total below and plot them on a bar chart:</div>"
   ]
  },
  {
   "cell_type": "code",
   "execution_count": null,
   "metadata": {},
   "outputs": [],
   "source": [
    "# Your code here:\n",
    "names = df2['name'].values\n",
    "Si = '''Your code here'''\n",
    "Fe = '''Your code here'''\n",
    "Ni = '''Your code here'''\n",
    "\n",
    "fig = plt.figure(num=2, figsize=(16, 8))\n",
    "ax = plt.subplot()\n",
    "\n",
    "X = np.arange(len(names))-1\n",
    "width = .25\n",
    "# the first bar should be at X-width the second at X and the third at X+width\n",
    "bar1 = ax.bar('''Your code here''', '''Your code here''', color='tan', width=width, label='Si')\n",
    "bar2 = ax.bar('''Your code here''', '''Your code here''', color='silver', width=width, label='Fe')\n",
    "bar3 = ax.bar('''Your code here''', '''Your code here''', color='lightslategray', width=width, label='Ni')\n",
    "plt.xticks(X, tuple(names))\n",
    "\n",
    "leg = ax.legend(frameon=False, handlelength=1, handleheight=1)"
   ]
  },
  {
   "cell_type": "markdown",
   "metadata": {},
   "source": [
    "Notice how the amount of silicon generally increases the further away from the core the layer is? That most of the iron is concentrated in the core as is the nickel. Remember the Earth underwent differentiation when it formed? And heavier elements sunk to the centre? That's what happened to most of the iron and nickel.\n",
    "\n",
    "<div class=\"alert alert-block alert-success\">\n",
    "Plot some more elements from our csv. Which ones increase in abundance towards the crust?\n",
    "    </div>"
   ]
  },
  {
   "cell_type": "code",
   "execution_count": null,
   "metadata": {},
   "outputs": [],
   "source": [
    "# make another bar chart and try to find an element whose abundace is highest in the crust\n",
    "# Your code here:\n"
   ]
  },
  {
   "cell_type": "markdown",
   "metadata": {},
   "source": [
    "The second csv file has a more comprehensive list of elemental abundances but only for the continental crust.\n",
    "\n",
    "<div class=\"alert alert-block alert-success\">Try plotting that data and making a graph of abundance versus atomic number (z). You should see a pattern like the one in the figure below.</div>"
   ]
  },
  {
   "cell_type": "code",
   "execution_count": null,
   "metadata": {},
   "outputs": [],
   "source": [
    "# run me\n",
    "Image('./figures/elem_comp_crust_earth.png')"
   ]
  },
  {
   "cell_type": "markdown",
   "metadata": {},
   "source": [
    "# Challenges <a class=\"anchor\" id=\"Challenges\"></a>\n",
    "\n",
    "1) Re-create any of the images above (my code can be found in **structure_plots.py** if you need help).  \n",
    "2) Find data for the Galilean Moons and make similar interior plots for them.  \n",
    "3) Make a plot that shows the difference between oceanic and continental crust clearly.  \n",
    "4) Plot some chemical data for the moon and other rocky planets using Chapter 8 of Planetary Science: A Lunar perspective [here](https://www.lpi.usra.edu/publications/books/planetary_science/chapter8.pdf)\n",
    "\n",
    "# References <a class=\"anchor\" id=\"References\"></a>\n",
    "\n",
    "Ken Rubin - How do scientists know what's in the core of the Earth? [https://www.soest.hawaii.edu/GG/ASK/earths_core.html](https://www.soest.hawaii.edu/GG/ASK/earths_core.html)  \n",
    "Eleanor Lutz- Topographic Maps of the Planets and Moons, [https://github.com/eleanorlutz/topography_atlas_of_space](https://github.com/eleanorlutz/topography_atlas_of_space)  \n",
    "Katharina Lodders - Composition of planets and properties of protoplanetary disks (2009), [https://www.tat.physik.uni-tuebingen.de/~fgp/Conf09/Contributions/talk_Lodders_Tuebingen09.pdf](https://www.tat.physik.uni-tuebingen.de/~fgp/Conf09/Contributions/talk_Lodders_Tuebingen09.pdf)\n",
    "\n",
    "# Acknowledgements\n",
    "\n",
    "Thanks to Cameron Davidson for his help identifying the difference between compositional and mechanical layers and sending over helpful figures [https://apps.carleton.edu/profiles/cdavidso/](https://apps.carleton.edu/profiles/cdavidso/).\n",
    "\n",
    "## Sharing\n",
    "\n",
    "If you share, use or modify this activity in any way use the citation in this [txt file](https://github.com/astroDimitrios/Astronomy/blob/master/CITATION.txt).    \n",
    "Please contact me at astrodimitrios@gmail.com with any suggestions, mistakes found, or general questions about teaching astronomy with Python.\n",
    "\n",
    "© Dimitrios Theodorakis GNU General Public License v3.0 https://github.com/astroDimitrios/Astronomy "
   ]
  }
 ],
 "metadata": {
  "kernelspec": {
   "display_name": "Python 3",
   "language": "python",
   "name": "python3"
  },
  "language_info": {
   "codemirror_mode": {
    "name": "ipython",
    "version": 3
   },
   "file_extension": ".py",
   "mimetype": "text/x-python",
   "name": "python",
   "nbconvert_exporter": "python",
   "pygments_lexer": "ipython3",
   "version": "3.6.13"
  }
 },
 "nbformat": 4,
 "nbformat_minor": 4
}
