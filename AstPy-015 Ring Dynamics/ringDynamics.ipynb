{
 "cells": [
  {
   "cell_type": "markdown",
   "metadata": {},
   "source": [
    "Name: __________________        Class: __________________     Date: __________________"
   ]
  },
  {
   "cell_type": "markdown",
   "metadata": {},
   "source": [
    "<center>\n",
    "    <img width=\"100%\" src=\"https://raw.githubusercontent.com/astroDimitrios/AstronomyClass/master/DesignAssets/Ai/Banner3plainCut.png\" alt='AP Logo'>\n",
    "</center>\n",
    "\n",
    "# Ring Dynamics\n",
    "\n",
    "<div class=\"alert alert-block alert-warning\"> This activity is not maintained or updated. The Rebound portion of this activity will not work on Windows based systems as it is not supported by Rebound.</div>\n",
    "\n",
    "## AIM - Visualise the Roche limit, identify resonances, and explain shepherding\n",
    "Difficulty: Hard\n",
    "\n",
    "**Predict**\n",
    "\n",
    "Have a think about these questions and make some predictions! Be sure to tell someone else what you predict.\n",
    "\n",
    "1) What effects the shape of the rings?  \n",
    "2) How are gaps in the rings made?  \n",
    "3) Do the outer moons of Saturn have an effect on the rings?  "
   ]
  },
  {
   "cell_type": "markdown",
   "metadata": {},
   "source": [
    "**Enter your predictions:**    \n",
    "1)    \n",
    "2)    \n",
    "3)    "
   ]
  },
  {
   "cell_type": "markdown",
   "metadata": {},
   "source": [
    "## Contents\n",
    "\n",
    "* [Start](#Start)\n",
    "* [Resonances](#Resonances)\n",
    "* [Waves](#Waves)\n",
    "* [Shepherd's Moons](#SM)\n",
    "* [Challenges](#Challenges)\n",
    "* [References](#References)\n",
    "\n",
    "# Let's go: Visualising the Roche limit <a class=\"anchor\" id=\"Start\"></a>\n",
    "\n",
    "In this notebook we'll first visualise the roche limit which we calculated in the activity Planetary Rings using an N-body simulation with the rebound package, then we will look at mean-motion resonances using data on the moons of Saturn, and finally we will briefly look at the effects of certain 'shepherd' moons.\n",
    "\n",
    "An N-body simulation is a simulation of many particles under the influence of gravity and other physical laws. We will use the rebound package to simulate what happens to a loosely held together mass of particles as it approaches Saturn and breaks up! The following code block sets up our simulation:"
   ]
  },
  {
   "cell_type": "code",
   "execution_count": null,
   "metadata": {},
   "outputs": [],
   "source": [
    "# run me\n",
    "import numpy as np\n",
    "import pandas as pd \n",
    "import matplotlib.pyplot as plt \n",
    "from matplotlib.patches import Circle\n",
    "import rebound\n",
    "from IPython.display import Image"
   ]
  },
  {
   "cell_type": "code",
   "execution_count": null,
   "metadata": {},
   "outputs": [],
   "source": [
    "# don't change anything just run it!\n",
    "sim = rebound.Simulation()        # set's up the simulation\n",
    "sim.units = ('km', 's', 'kg')     # set's the units for the sim\n",
    "sim.dt = 10                       # set's the time step - this is in s which we defined above\n",
    "sim.softening = 0.2               # smoothes out numerical artefacts at small scales\n",
    "sim.gravity    = \"basic\"          # set's the gravity module"
   ]
  },
  {
   "cell_type": "markdown",
   "metadata": {},
   "source": [
    "Let's start by adding Saturn. This code queries NASA's Horizons database for the current location of Saturn. Then we move to the new centre of mass of the system (Saturn) and print the simulation status:"
   ]
  },
  {
   "cell_type": "code",
   "execution_count": null,
   "metadata": {},
   "outputs": [],
   "source": [
    "# don't change anything just run it!\n",
    "sim.add(\"699\")       # add Saturn using its code 699\n",
    "sim.move_to_com()    # move to the new centre of mass\n",
    "sim.status()         # print the status of the sim"
   ]
  },
  {
   "cell_type": "markdown",
   "metadata": {},
   "source": [
    "The ```sim.status()``` call shows the current timestep and the current time of the simulation along with the position of the particles in our simulation. \n",
    "\n",
    "Now we need to add our loosely bound mass of particles which will represent our moon which will get too close to Saturn and break up. Complete the code block below to add the particles:"
   ]
  },
  {
   "cell_type": "code",
   "execution_count": null,
   "metadata": {},
   "outputs": [],
   "source": [
    "# we will pick random particle radii based on a powerlaw\n",
    "def powerlaw(slope, min_v, max_v):\n",
    "    y = np.random.uniform()\n",
    "    pow_max = pow(max_v, slope+1.)\n",
    "    pow_min = pow(min_v, slope+1.)\n",
    "    return pow((pow_max-pow_min)*y + pow_min, 1./(slope+1.))\n",
    "\n",
    "particle_density = .1 # kg/m^3\n",
    "\n",
    "print('Adding ring particles')\n",
    "count = 0\n",
    "# this while loop will add 100 particles to make our moon\n",
    "while count < 100:\n",
    "    radius = powerlaw(slope=-4, min_v=1, max_v=4)/1000  # m get the radius\n",
    "    # calculate the mass from the radius and the particle_density\n",
    "    # assume the particle is a spere\n",
    "    # Your code here:\n",
    "    mass = '''Your code here'''  # kg\n",
    "    rs = 180000 # our particles will be 180,000 km away from the centre of Saturn\n",
    "    theta = np.pi/4\n",
    "    # convert from polar coords to cartesian\n",
    "    x = rs*np.cos(theta)\n",
    "    y = rs*np.sin(theta)\n",
    "    # use np.random.uniform() to add a number between -5000 and +5000 to the x and y coords\n",
    "    # this will spread our particles out so they're not all on top of each other\n",
    "    # hint np.random.uniform() has a 'low' and 'high' keyword argument\n",
    "    # Your code here:\n",
    "    x += '''Your code here'''\n",
    "    y += '''Your code here'''\n",
    "    # lastly use v = sqrt(GM/r) to calculate the speed of the particle\n",
    "    # G = 6.67428e-11, M is the mass of Saturn (stored in sim.particles[0].m)\n",
    "    # r is the distance rs but in m not km, convert the final velocity into km/s and times by .75\n",
    "    # this will ensure our moon is falling towards Saturn\n",
    "    # Your code here:\n",
    "    v = '''Your code here''' # km/s\n",
    "    # this sim.add() call adds this new particle!\n",
    "    sim.add(\n",
    "        m=mass,\n",
    "        r=radius,\n",
    "        x=x,\n",
    "        y=y,\n",
    "        z=np.random.normal(),\n",
    "        vx = -v*np.sin(theta),\n",
    "        vy = v*np.cos(theta),\n",
    "        vz = 0.)\n",
    "    count += 1\n",
    "print('Finished adding ring particles')"
   ]
  },
  {
   "cell_type": "markdown",
   "metadata": {},
   "source": [
    "Now our simulation is set up with all our particles! You can use ```sim.status()``` again now if you like to see the particle list (this will print out a lot!). Now we need to visualise the system after each integration or jump forward in time. To do this I have defined a plotting function below which will generate images in the myimages folder which you can download at the end of the activity. Run the code block now then move on:"
   ]
  },
  {
   "cell_type": "code",
   "execution_count": null,
   "metadata": {},
   "outputs": [],
   "source": [
    "# don't change anything just run it!\n",
    "def plotParticles(sim, k):\n",
    "    '''\n",
    "    Takes an input simulation and integration number k\n",
    "    Outputs a png of the current system with Saturn scaled to real size but particles enlarged\n",
    "    '''\n",
    "    fig = plt.figure(figsize=(8,8))\n",
    "    ax = plt.subplot(111, aspect='equal')\n",
    "    ax.set_ylabel(\"y / km\")\n",
    "    ax.set_xlabel(\"x / km\")\n",
    "    ax.set_xlim(-200000, 200000)\n",
    "    ax.set_ylim(-200000, 200000)\n",
    "    ax.set_aspect('equal')\n",
    "    ax.ticklabel_format(axis=\"both\", style=\"sci\", scilimits=(0,0))\n",
    "    for i, p in enumerate(sim.particles):\n",
    "        if i == 0:\n",
    "            fc, ec, a, r = \"goldenrod\", \"None\", 1, 58232\n",
    "        else:\n",
    "            fc, ec, a, r = \"lightgray\", \"k\", 1, p.r*5000\n",
    "        circ = Circle((p.x, p.y), r, facecolor=fc, edgecolor=ec, alpha=a)\n",
    "        ax.add_patch(circ)\n",
    "    plt.savefig('./myimages/dynamics_'+str(k)+'.png', dpi=100)\n",
    "    fig.clf()\n",
    "    plt.close()"
   ]
  },
  {
   "cell_type": "markdown",
   "metadata": {},
   "source": [
    "Now we can run our simulation! The next code block will integrate forward 100 times (jumping 100 s each time) and output an image after each jump:"
   ]
  },
  {
   "cell_type": "code",
   "execution_count": null,
   "metadata": {},
   "outputs": [],
   "source": [
    "# This should only take ~ 30s\n",
    "plotParticles(sim, 0)                 # plot the initial setup!\n",
    "for i in range(100):                  # jump 100 times\n",
    "    sim.integrate(sim.t + 100)        # this gets the current sime time (sim.t) and jumps an extra 100 s\n",
    "    plotParticles(sim, i+1)           # plot again\n",
    "\n",
    "sim.save(\"./myimages/myfirstsim.bin\")               # this will save the last state of the particles in the sim"
   ]
  },
  {
   "cell_type": "markdown",
   "metadata": {},
   "source": [
    "Now check in the myimages folder and you should see 101 images with the prefix 'dynamics'! Download them and make a gif from them (perhaps using [ezgif](https://ezgif.com/)). You should end up with something like this:"
   ]
  },
  {
   "cell_type": "code",
   "execution_count": null,
   "metadata": {},
   "outputs": [],
   "source": [
    "Image('Images/roche.gif')"
   ]
  },
  {
   "cell_type": "markdown",
   "metadata": {},
   "source": [
    "Our moon disintegrates! Remember the side of the moon closest to Saturn experiences a stronger gravitational pull and also has to travel faster to maintain its orbit so the particles get spread out in a band. Now you know how to create a basic N-body simulation you can adapt it and make it your own (maybe tackle challenge 3!).\n",
    "\n",
    "# Resonances <a class=\"anchor\" id=\"Resonances\"></a>\n",
    "\n",
    "A resonance occurs when the orbital period of one particle is an integer multiple of another particles orbital period. Take the 2:1 resonance for example. This means the inner particle (the one closer to the parent body) orbits twice in the time the outer particle orbits only once. This is an example of a first order resonance. The first order resonances are 2:1, 3:2, 4:3, 5:4, 6:5 and so on! \n",
    "\n",
    "When two objects are in resonance they 'tug' on each other at certain points around their orbits. These small gravitational tugs build up to a point where they can significantly change each others orbits. Resonances can either stabilise the orbits of the objects (making it harder for them to change their orbit) or destabilise the orbits of one or both of the objects.\n",
    "\n",
    "In this section we'll first look at the moons to see if any are in resonant orbits with each other. Then we'll determine locations in the rings where the ring particles are resonant with certain moons and link these resonances to ring features.\n",
    "\n",
    "Let's start by loading the csv containing data on Saturn's moons:"
   ]
  },
  {
   "cell_type": "code",
   "execution_count": null,
   "metadata": {},
   "outputs": [],
   "source": [
    "saturn_moons = pd.read_csv('saturn_moons.csv')\n",
    "saturn_moons.head()"
   ]
  },
  {
   "cell_type": "markdown",
   "metadata": {},
   "source": [
    "For now we are only really interested in the moon's Name and Period. To calculate whether two moons are in resonant orbits with each other we will take one moons period and divide it by another moons period. If we get any ratio of integers there is a resonance! For instance if after dividing we get 1.5 (or close) the two moons are in a 3:2 resonance! Complete the code block below to create a new dataframe with the moon names as both the row and column names and the ratio of periods as the data values:"
   ]
  },
  {
   "cell_type": "code",
   "execution_count": null,
   "metadata": {},
   "outputs": [],
   "source": [
    "# get the names of the moons from the dataframe\n",
    "# Your code here:\n",
    "moon_names = '''Your code here'''\n",
    "# This will create an empty df for you!\n",
    "moon_res = pd.DataFrame({}, columns=moon_names)\n",
    "\n",
    "# loop over each name\n",
    "for i in moon_names:\n",
    "    # get the period for this moon, i, from the first df\n",
    "    # Your code here:\n",
    "    this_moon_period = '''Your code here'''\n",
    "    res = []\n",
    "    # loop over moon names again\n",
    "    for j in moon_names:\n",
    "        # get the period for the moon with name j from the first df and divide it by this_moon_period\n",
    "        # append it to res\n",
    "        # Your code here:\n",
    "        period_ratio = '''Your code here'''\n",
    "        res.append(period_ratio)\n",
    "    # finally these two lines add this new row to our empty df which we called moon_res\n",
    "    this_row = pd.DataFrame([res], index=[i], columns=moon_names)\n",
    "    moon_res = pd.concat([moon_res, this_row])\n",
    "\n",
    "moon_res"
   ]
  },
  {
   "cell_type": "markdown",
   "metadata": {},
   "source": [
    "Now we have a table with period ratios! You need only look at the numbers above the diagonal (which are all ones). Which moons are in resonant orbits with each other? Remember the number will need to be close to the ratio of two integers.\n",
    "\n",
    "Let's now look at resonances between the moons and ring particles. Specifically those with the moon Mimas (the death star moon). We need to get Mimas' Period and Semimajor Axis from our first dataframe. Divide Mimas' period by an integer (2 for the 2:1 resonance) and then use Kepler's 3rd law:\n",
    "\n",
    "$$A^3 = kT^3 $$\n",
    "\n",
    "to find the Semimajor Axis ($A$) of the resonant ring particle with period $T$. Here $k$ is a constant that we will have to calculate. Complete the code block below to calculate the location of the 2:1 resonance with Mimas:"
   ]
  },
  {
   "cell_type": "code",
   "execution_count": null,
   "metadata": {},
   "outputs": [],
   "source": [
    "# locate the radius and period of Mimas from the dataframe saturn_moons\n",
    "# Your code here:\n",
    "mimas_radius = saturn_moons.loc[saturn_moons['Name'] == 'Mimas', 'Semimajor Axis'].values[0]\n",
    "mimas_period = '''Your code here'''\n",
    "print('Mimas a = {:6.0f} km'.format(mimas_radius))\n",
    "print('Mimas T = {:6.2f} days'.format(mimas_period))\n",
    "\n",
    "# calculate the constant using Kepler's 3rd law (re-arrange to get k)\n",
    "# Your code here:\n",
    "const = '''Your code here''' # km^3 / days^2\n",
    "\n",
    "# divide the period by 2 to get mimas_2_1_period\n",
    "# then use Kepler's 3rd law to get A (mimas_2_1_radius)\n",
    "# Your code here:\n",
    "mimas_2_1_period = '''Your code here'''\n",
    "mimas_2_1_radius = '''Your code here'''\n",
    "print('Mimas 2:1 res a = {:6.0f} km'.format(mimas_2_1_radius))\n",
    "print('Mimas 2:1 res T = {:6.2f} days'.format(mimas_2_1_period))"
   ]
  },
  {
   "cell_type": "markdown",
   "metadata": {},
   "source": [
    "Use the reference image below to identify the feature which lies near this resonance:"
   ]
  },
  {
   "cell_type": "code",
   "execution_count": null,
   "metadata": {},
   "outputs": [],
   "source": [
    "Image('Images/Ring_overview.jpg')"
   ]
  },
  {
   "cell_type": "markdown",
   "metadata": {},
   "source": [
    "Now use the code block below to calculate the resonances with the large moon Janus and then identify ring features at those resonant positions (if there are any):"
   ]
  },
  {
   "cell_type": "code",
   "execution_count": null,
   "metadata": {},
   "outputs": [],
   "source": [
    "def locate_res(moon_name, order):\n",
    "    '''\n",
    "    Takes the name of a moon of saturn as a string and returns the resonant periods and locations\n",
    "    '''\n",
    "    # get the radius and period of the moon with name moon_name\n",
    "    # Your code here:\n",
    "    moon_radius = '''Your code here'''\n",
    "    moon_period = '''Your code here'''\n",
    "    print(moon_name+' a = {:6.0f} km'.format(moon_radius))\n",
    "    print(moon_name+' T = {:6.2f} days'.format(moon_period))\n",
    "    # calculate the constant k\n",
    "    # Your code here:\n",
    "    this_const = '''Your code here''' # km^3 / days^2\n",
    "    res_no = [2, 3, 4, 5, 6, 7]\n",
    "    # loop over each number in res_no\n",
    "    # calculate the period and radius of the particle\n",
    "    # Hint: divide the moon_period by the number in res_no then times by the number minus the order\n",
    "    # this will let us calculate second and higher order resonances\n",
    "    # Your code here:\n",
    "    for i in res_no:\n",
    "        this_res_period = '''Your code here'''\n",
    "        this_res_radius = '''Your code here'''\n",
    "        print(moon_name+' '+str(i)+':'+str(i-order)+' a = {:6.0f} km'.format(this_res_radius))\n",
    "        print(moon_name+' '+str(i)+':'+str(i-order)+' T = {:6.2f} days'.format(this_res_period))\n",
    "\n",
    "# This will print the first order resonances with the moon Janus!\n",
    "locate_res('Janus', 1)"
   ]
  },
  {
   "cell_type": "markdown",
   "metadata": {},
   "source": [
    "Load the image below and use it and the one above to locate ring features at the resonant positions with Janus."
   ]
  },
  {
   "cell_type": "code",
   "execution_count": null,
   "metadata": {},
   "outputs": [],
   "source": [
    "Image('Images/Aring_overview.jpg')"
   ]
  },
  {
   "cell_type": "markdown",
   "metadata": {},
   "source": [
    "## Waves <a class=\"anchor\" id=\"Waves\"></a>\n",
    "\n",
    "The next image was located using the [OPUS](http://pds-rings.seti.org/search/ ) search tool on the rings and moons node of the planetary data system. It covers a range of 131,500 km to 132,500 km in semimajor axis and was taken by the Cassini spacecraft!"
   ]
  },
  {
   "cell_type": "code",
   "execution_count": null,
   "metadata": {},
   "outputs": [],
   "source": [
    "Image('Images/N1467351539_2.IMG.jpeg')"
   ]
  },
  {
   "cell_type": "markdown",
   "metadata": {},
   "source": [
    "The inner wave on the far left is a bending wave. Bending waves move inwards (towards Saturn) and are produced by moons which are inclined relative to Saturn's equator and the plane of Saturn's rings. Bending waves create vertical ripples in the ring. The larger wave to the right of the bending wave (just left of centre at the bottom) is a density wave which moves outwards. Density waves are more common than bending waves. To the right of the image you can see another pair of bending and density waves!\n",
    "\n",
    "One of the larger inner moons causes the bending and density waves between 131,500 km and 132,500 km. Can you identify which one it is? Remember to create a bending wave the moon must have a non-zero inclination (i). Use the code block below and the function we wrote above to calculate the resonances for your guess of moon:"
   ]
  },
  {
   "cell_type": "code",
   "execution_count": null,
   "metadata": {},
   "outputs": [],
   "source": [
    "# Hint the resonance you're looking for is NOT first order!\n",
    "# Your code here:\n",
    "locate_res('Mimas', 2)"
   ]
  },
  {
   "cell_type": "markdown",
   "metadata": {},
   "source": [
    "## Shepherd Moons <a class=\"anchor\" id=\"SM\"></a>\n",
    "\n",
    "Finally let's briefly look at shepherd moons. These are moons that lie in gaps in Saturn's rings. Their gravitational pull on the ring particles clears out the area around them. In the following image you can see the moon Daphnis in the Keeler gap:"
   ]
  },
  {
   "cell_type": "code",
   "execution_count": null,
   "metadata": {},
   "outputs": [],
   "source": [
    "Image('Images/daphnis1.jpg')"
   ]
  },
  {
   "cell_type": "markdown",
   "metadata": {},
   "source": [
    "The moons gravity clears out the material from the gap. Notice how it is also creating ripples in the edges of the gap. This pattern forms from the combined attraction from the moon and Saturn. The ripple along the inner edge (at the top) are leading Daphnis ie they are ahead of Daphnis in their orbit because they are travelling at a higher speed. The ripple along the outer edge trails Daphnis. These ripples are prominent because the gap is quite small/Daphnis is close to the edges. The Encke gap in which the moon Pan resides does not have ripples like this since the gap is much wider and there is a larger distance inbetween Pan and the gap edges.\n",
    "\n",
    "You can also use rebound to simulate the formation of these ripples! The gif you can load below shows my attempt at simulating a small gap and the effect of a moon like Daphnis on a ring arc (a segment of a ring):"
   ]
  },
  {
   "cell_type": "code",
   "execution_count": null,
   "metadata": {},
   "outputs": [],
   "source": [
    "Image('Images/shepherd.gif')"
   ]
  },
  {
   "cell_type": "markdown",
   "metadata": {},
   "source": [
    "There are also other ring features such as spokes which I haven't mentioned! You should check out the references below for more on Saturn's rings.\n",
    "\n",
    "## Challenges: <a class=\"anchor\" id=\"Challenges\"></a>\n",
    "\n",
    "1) Identify features related to resonances with Enceladus. Are there any?  \n",
    "2) Use the OPUS tool to find images to make a gif of the ripples or a moon moving!  \n",
    "3) Use rebound or another N-body simulation package to simulate a shepherd moon.  \n",
    "4) Follow the two ring simulation articles in the references below to create your own ring simulation from first principles.  \n",
    "\n",
    "# References <a class=\"anchor\" id=\"References\"></a>\n",
    "\n",
    "Phil Nicholson - Resonances and Rings [http://hosting.astro.cornell.edu/specialprograms/reu2012/workshops/rings/](http://hosting.astro.cornell.edu/specialprograms/reu2012/workshops/rings/)  \n",
    "Outer Planets Data Search Tool (OPUS3) PDS Ring-Moons Node NASA/SETI [https://opus.pds-rings.seti.org/opus/](https://opus.pds-rings.seti.org/opus/)  \n",
    "Rebound N-body simulator [https://rebound.readthedocs.io/en/latest/](https://rebound.readthedocs.io/en/latest/)  \n",
    "\n",
    "Chris Mihos - Ring Dynamics [http://burro.astr.cwru.edu/Academics/Astr221/SolarSys/Rings/dynamics.html](http://burro.astr.cwru.edu/Academics/Astr221/SolarSys/Rings/dynamics.html)  \n",
    "Matthew Hedman - Planetary Ring Dynamics [https://webpages.uidaho.edu/mhedman/papers_published/UNESCO_dynamics.pdf](https://webpages.uidaho.edu/mhedman/papers_published/UNESCO_dynamics.pdf)     \n",
    "Shane Byrne - Rings and Moons of Saturn [http://www.lpl.arizona.edu/~shane/PTYS_206/lectures/PTYS_206_saturns_rings_moons.pdf](http://www.lpl.arizona.edu/~shane/PTYS_206/lectures/PTYS_206_saturns_rings_moons.pdf)  \n",
    "\n",
    "Simulations:  \n",
    "Cole Kendrick - Computer Simulation of Saturn's Rings [http://courses.physics.ucsd.edu/2018/Winter/physics141/Assignments/SaturnRingSimulation.pdf](http://courses.physics.ucsd.edu/2018/Winter/physics141/Assignments/SaturnRingSimulation.pdf)  \n",
    "Kirsten Larson - The Effects of Moons on Saturn's Ring System [http://physics.wooster.edu/JrIS/Files/Larson_Web_article.pdf](http://physics.wooster.edu/JrIS/Files/Larson_Web_article.pdf)\n",
    "\n",
    "## Sharing\n",
    "\n",
    "If you share, use or modify this activity in any way use the citation in this [txt file](https://github.com/astroDimitrios/Astronomy/blob/master/CITATION.txt).    \n",
    "Please contact me at astrodimitrios@gmail.com with any suggestions, mistakes found, or general questions about teaching astronomy with Python.\n",
    "\n",
    "© Dimitrios Theodorakis GNU General Public License v3.0 https://github.com/astroDimitrios/Astronomy "
   ]
  }
 ],
 "metadata": {
  "kernelspec": {
   "display_name": "Python 3",
   "language": "python",
   "name": "python3"
  },
  "language_info": {
   "codemirror_mode": {
    "name": "ipython",
    "version": 3
   },
   "file_extension": ".py",
   "mimetype": "text/x-python",
   "name": "python",
   "nbconvert_exporter": "python",
   "pygments_lexer": "ipython3",
   "version": "3.6.13"
  }
 },
 "nbformat": 4,
 "nbformat_minor": 4
}
