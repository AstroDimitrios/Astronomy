{
 "cells": [
  {
   "cell_type": "markdown",
   "metadata": {},
   "source": [
    "Name: __________________        Class: __________________     Date: __________________"
   ]
  },
  {
   "cell_type": "markdown",
   "metadata": {},
   "source": [
    "<center>\n",
    "    <img width=\"100%\" src=\"https://raw.githubusercontent.com/astroDimitrios/Astronomy/main/APBanner.png\" alt='A&P Logo'>\n",
    "</center>\n",
    "\n",
    "# Planetary Rings\n",
    "\n",
    "### AIM - Visualise the rings of Saturn and calculate the Roche limit of some moons.\n",
    "Difficulty: Easy\n",
    "\n",
    "**Predict**\n",
    "\n",
    "Have a think about these questions and make some predictions! Be sure to tell someone else what you predict.\n",
    "\n",
    "1) What are planetary rings made from?  \n",
    "2) What happens if a satellite gets too close to its parent planet?  \n",
    "3) Do all planets have rings?"
   ]
  },
  {
   "cell_type": "markdown",
   "metadata": {},
   "source": [
    "**Enter your predictions:**    \n",
    "1)    \n",
    "2)    \n",
    "3)    "
   ]
  },
  {
   "cell_type": "markdown",
   "metadata": {},
   "source": [
    "## Contents\n",
    "\n",
    "* [Start](#Start)\n",
    "* [Roche Limit](#Roche)\n",
    "* [Challenges](#Challenges)\n",
    "* [References](#References)\n",
    "\n",
    "# Let's go: Visualising Saturn's Rings <a class=\"anchor\" id=\"Start\"></a>\n",
    "\n",
    "The ***data*** directory contains csv files with data on the rings of the gas giants and their inner moons. There is also a ring file just for Saturn with a much more detailed ring structure.\n",
    "\n",
    "We are going to use the file **planetary_rings.csv** to plot the structure of Saturn's rings and its inner moons. Let's start by loading the file and printing the first five rows:"
   ]
  },
  {
   "cell_type": "code",
   "execution_count": null,
   "metadata": {},
   "outputs": [],
   "source": [
    "# run me\n",
    "import numpy as np \n",
    "import pandas as pd \n",
    "import matplotlib.pyplot as plt\n",
    "from matplotlib.patches import Circle\n",
    "from random import seed\n",
    "from random import random\n",
    "from IPython.display import Image\n",
    "# %matplotlib inline"
   ]
  },
  {
   "cell_type": "code",
   "execution_count": null,
   "metadata": {},
   "outputs": [],
   "source": [
    "# run me\n",
    "file = './data/planetary_rings.csv'\n",
    "df = pd.read_csv(file)\n",
    "df.head()"
   ]
  },
  {
   "cell_type": "markdown",
   "metadata": {},
   "source": [
    "Here we see the first five rings of Saturn! There is a name and simplified name for plotting, the internal and external radius of the ring in km (min and max), the width of the ring, the optical density of the ring (how opaque it is), the dust fraction of the ring (how much of it is just dust), and finally any notes on that ring.\n",
    "<div class=\"alert alert-block alert-success\">\n",
    "Let's extract the data for Saturn only and then get the ring names, min, max, and od values from the reduced dataframe:</div>"
   ]
  },
  {
   "cell_type": "code",
   "execution_count": null,
   "metadata": {},
   "outputs": [],
   "source": [
    "# get saturn - locate rows where df['object'] -- 'saturn'\n",
    "# Your code here:\n",
    "saturn_rings = saturn_rings = df.loc['''Your code here''']\n",
    "\n",
    "# get names (simp), ring radii, and optical densities\n",
    "# Your code here:\n",
    "names = saturn_rings['''Your code here'''].values\n",
    "inner = '''Your code here'''\n",
    "outer = '''Your code here'''\n",
    "\n",
    "# For od take an average of the od lower and od upper columns\n",
    "# Your code here:\n",
    "od = '''Your code here'''\n",
    "od = od.values\n",
    "\n",
    "saturn_rings"
   ]
  },
  {
   "cell_type": "markdown",
   "metadata": {},
   "source": [
    "When we plot our rings we want the ring transparancy to be based off the optical density (higher od = lower transparency/more opaque). The following code snippet will calculate the alpha values for you. You don't need to alter the code block below just run it. As a challenge you could scale the transparency so that a drop in alpha of .1 is a 10 times drop in od."
   ]
  },
  {
   "cell_type": "code",
   "execution_count": null,
   "metadata": {},
   "outputs": [],
   "source": [
    "# run me\n",
    "# scale alphas based on od\n",
    "alphas = []\n",
    "for i in od:\n",
    "    # max alpha is 1\n",
    "    if i > 1:\n",
    "        alphas.append(1)\n",
    "    # threshold min for it to be visible\n",
    "    elif i < 0.001:\n",
    "        alphas.append(0.025)\n",
    "    elif i < 0.01:\n",
    "        alphas.append(i*100)\n",
    "    else:\n",
    "        alphas.append(i*1.8)\n",
    "alphas"
   ]
  },
  {
   "cell_type": "markdown",
   "metadata": {},
   "source": [
    "Now let's start our plot.\n",
    "<div class=\"alert alert-block alert-success\">The first thing you need to do is set up the figure and axes, then plot a central circle for the planet: </div>"
   ]
  },
  {
   "cell_type": "code",
   "execution_count": null,
   "metadata": {},
   "outputs": [],
   "source": [
    "# finish setting up the figure and axes\n",
    "# Your code here:\n",
    "fig = plt.figure(num=1, figsize=(14, 14))\n",
    "ax = '''Your code here'''\n",
    "ax.set_facecolor('white')\n",
    "\n",
    "# zorder counter\n",
    "# this will make sure the next circle is plotted below the last\n",
    "# (we will plot from the planet outwards)\n",
    "z = 30\n",
    "\n",
    "# plot the planet - get the radius of Saturn in km, turn of the edgecolor and pick a color\n",
    "# after the add_artist() call take one away from z\n",
    "# Your code here:\n",
    "rad =  '''Your code here''' # km\n",
    "circle = Circle((0, 0), '''Your code here''', color='''Your code here''', zorder='''Your code here''', alpha=1, ec='None')\n",
    "ax.add_artist(circle)\n",
    "'''Your code here'''\n",
    "\n",
    "# leave this\n",
    "limit = outer[-2]+80000\n",
    "ax.set_xlim(-limit*1.01, limit*1.01)\n",
    "ax.set_ylim(-limit*1.01, limit*1.01)\n",
    "ax.set_aspect('equal')\n",
    "ax.axis('off')"
   ]
  },
  {
   "cell_type": "markdown",
   "metadata": {},
   "source": [
    "Now you have the planet plotted lets add the rings. For each ring we are going to add two circles. A white one with a radius equal to the inner radius of the ring (stored in the inner variable) and a coloured one with a radius equal to the outer radius of the ring (stored in the outer variable). The white circle will block out the parts of the coloured circle that aren't part of the ring. \n",
    "<div class=\"alert alert-block alert-success\">Complete the code block below to add the rings:</div>"
   ]
  },
  {
   "cell_type": "code",
   "execution_count": null,
   "metadata": {},
   "outputs": [],
   "source": [
    "# the first circle will block out the inner part of the second creating a ring\n",
    "\n",
    "for i in range(len(names)):\n",
    "    # add the first white circle with a radius from inner\n",
    "    # remember to take one from z after the add_artist() call\n",
    "    # Your code here:\n",
    "    circle = Circle((0, 0), '''Your code here''', color='''Your code here''', zorder='''Your code here''', ec='None')\n",
    "    ax.add_artist(circle)\n",
    "    z -= '''Your code here'''\n",
    "    # add the second coloured ring circle (pick a colour!)\n",
    "    # remember to take one from z after the add_artist() call\n",
    "    # Your code here:\n",
    "    circle = Circle((0, 0), '''Your code here''', color='''Your code here''', zorder='''Your code here''', alpha=alphas[i], ec='None')\n",
    "    ax.add_artist(circle)\n",
    "    z -= '''Your code here'''\n",
    "    # fix name locations\n",
    "    # Get the middle of each ring and plot the name there as text \n",
    "    tx = '''Your code here'''\n",
    "    if names[i] == 'E': # this fixes the position of E - you can leave this as is\n",
    "        tx = 215000\n",
    "    ax.text(tx, 0, names[i], fontsize=10, color='dimgray', zorder=32, ha='center', va='center')\n",
    "    \n",
    "fig"
   ]
  },
  {
   "cell_type": "markdown",
   "metadata": {},
   "source": [
    "Wow! The E ring extends much further out from Saturn but our limits chopped it off so that the inner rings are big enough to be visible in our image. You can clearly see rings B and A are the most reflective and the Cassini Division (CD) lies between them. The inner satellites of Saturn play an important role in maintaining the rings. Let's load the **saturns_moons.csv** and see what's inside:"
   ]
  },
  {
   "cell_type": "code",
   "execution_count": null,
   "metadata": {},
   "outputs": [],
   "source": [
    "# run me\n",
    "# load moon data\n",
    "moonfile = './data/saturn_moons.csv'\n",
    "moons = pd.read_csv(moonfile)\n",
    "\n",
    "moons = moons.loc[moons['Semimajor Axis'] <= moons.loc[moons['Name'] == 'Enceladus', 'Semimajor Axis'].iloc[0]]\n",
    "\n",
    "moon_names = moons['Name'].values\n",
    "moon_A = moons['Semimajor Axis'].values\n",
    "moon_diam = moons['Mean Diameter'].values\n",
    "\n",
    "moons"
   ]
  },
  {
   "cell_type": "markdown",
   "metadata": {},
   "source": [
    "Here we've selected the first 13 moons up to Enceladus (the moon responsible for the E ring). Now we could just plot the moons all in a row using the Semimajor Axis column as the x or y position and 0 for the other coordinate or we can define a function to calculate the x and y displacements given a random location in its orbit (assuming it's circular). This way the moons will be randomly placed on a circle of radius equal to their semimajor axis. \n",
    "<div class=\"alert alert-block alert-success\">Complete the function below and call it to calculate the positions:</div>"
   ]
  },
  {
   "cell_type": "code",
   "execution_count": null,
   "metadata": {},
   "outputs": [],
   "source": [
    "# rand pos for moons so that they're not all along a straight line\n",
    "def moon_pos(A):\n",
    "    seed(1) # this is not necessary - if you change the number the random positions will change\n",
    "    # for each semimajor axis value A generate a random number using random()\n",
    "    # Your code here:\n",
    "    rands = ['''Your code here''' for i in '''Your code here''']\n",
    "    # turn it into an array using np.asarray(rands) and times it by 2 pi\n",
    "    rands = '''Your code here'''\n",
    "    # now we have random angle from 0 to 2pi\n",
    "    # calculate the x and y positions of the moon using trig ie x=Acos(rands)\n",
    "    x = np.multiply('''Your code here''', '''Your code here''')\n",
    "    y = np.multiply('''Your code here''', '''Your code here'''\n",
    "    return x, y\n",
    "\n",
    "moon_x, moon_y = moon_pos(moon_A)"
   ]
  },
  {
   "cell_type": "markdown",
   "metadata": {},
   "source": [
    "<div class=\"alert alert-block alert-success\">Now complete the next cell to add the moons as individual scatter points to our plot:</div>"
   ]
  },
  {
   "cell_type": "code",
   "execution_count": null,
   "metadata": {},
   "outputs": [],
   "source": [
    "# plot moons and shift the text based on the diameter\n",
    "for i in range(len(moons)):\n",
    "    # plot the moon as a point below, scale the size based off the moon_diam \n",
    "    # remember s must take a list! (use a zorder of 31)\n",
    "    # Your code here:\n",
    "    ax.scatter('''Your code here''', '''Your code here''', ec='None', s=['''Your code here'''], color='darkgray', zorder=31)\n",
    "    # This code below shifts the text labels so that they are offset correctly from the moons\n",
    "    if moon_diam[i] < 1:\n",
    "        shift = moon_diam[i]*1500\n",
    "    elif moon_diam[i] < 20:\n",
    "        shift = moon_diam[i]*800\n",
    "    elif moon_diam[i] < 50:\n",
    "        shift = moon_diam[i]*100\n",
    "    elif moon_diam[i] < 120:\n",
    "        shift = moon_diam[i]*50\n",
    "    else:\n",
    "        shift = moon_diam[i]*23\n",
    "    textx = moon_x[i]+shift\n",
    "    texty = moon_y[i]+shift\n",
    "    # add the text label using the name from moon_names (use a zorder of 31)\n",
    "    # Your code here:\n",
    "    ax.text('''Your code here''', '''Your code here''', '''Your code here''', fontsize=8, color='dimgrey', zorder=31)\n",
    "    \n",
    "fig"
   ]
  },
  {
   "cell_type": "markdown",
   "metadata": {},
   "source": [
    "Notice there are quite a few moons near or inside the rings! The moon Prometheus acts as a 'shephard' moon keeping the F ring in its narrow shape. The ice spewed out from Enceladus forms the E ring. So perhaps we should have coloured it a faint blue!\n",
    "\n",
    "## Roche Limit <a class=\"anchor\" id=\"Roche\"></a>\n",
    "\n",
    "If a moon gets too close to its parent planet it can be broken up by tidal forces. The side of the moon nearest to the parent planet has a greater force on it (and orbital velocity) than the side furthest away. If the tidal force can overcome the material strength of the moon it will break up into pieces and eventually spread out and form a ring.\n",
    "\n",
    "We can approximate how close a moon needs to be to its parent planet before being broken up using the Roche limit. The equation for the roche limit is:\n",
    "\n",
    "$$d\\approx2.44R\\left(\\frac{\\rho_M}{\\rho_m}\\right)^\\frac{1}{3}$$\n",
    "\n",
    "where $d$ is the Roche limit, $R$ is the radius of the parent planet/body, $\\rho_M$ is the density of the parent planet/body, and $\\rho_m$ is the density of the moon/satellite. \n",
    "<div class=\"alert alert-block alert-success\">Let's calculate the Roche limit for Mimas (the death star moon) and Pan (the ravioli moon), then plot the limit as a dashed circular line (by using a circle with an edge but no face).</div>"
   ]
  },
  {
   "cell_type": "code",
   "execution_count": null,
   "metadata": {},
   "outputs": [],
   "source": [
    "# Roche limits fluid\n",
    "\n",
    "# the csv has no density column so these lines calculate it from the mass and diameters\n",
    "moons['Density'] = moons['Mass']*10**13/(4/3*np.pi*(moons['Mean Diameter']/2*1000)**3)\n",
    "moon_dens = moons['Density'].values # kg/m^3\n",
    "\n",
    "# you will need to google the density of Saturn in kg/m^3\n",
    "density =  '''Your code here''' # kg/m^3\n",
    "\n",
    "# calculate the roche limits for all the planets and print them!\n",
    "# Your code here:\n",
    "roche = '''Your code here'''\n",
    "for m, r in zip(moon_names, roche):\n",
    "    print('''Your code here''')\n",
    "\n",
    "# use the Circle() artist with fc='None' and ls='--' or ':' to get a circle with no fill just an edge\n",
    "# use a zorder of 30 and pick a color, check how we used Circle above for help\n",
    "# Your code here:\n",
    "# Pan\n",
    "circle = Circle('''Your code here''')\n",
    "ax.add_artist(circle)\n",
    "# Mimas\n",
    "circle = Circle('''Your code here''')\n",
    "ax.add_artist(circle)\n",
    "\n",
    "fig"
   ]
  },
  {
   "cell_type": "markdown",
   "metadata": {},
   "source": [
    "At first glance everything looks ok but wait! The Roche limit for Pan is actually the dashed line near Mimas in the G ring. This means Pan is within the Roche limit so why hasn't it broken up? The equation we used above was the Roche limit for a fluid satellite which takes into account the deformation of the satellite (how deformed it is compared to a perfect sphere). The Roche limit for a rigid spherical satellite is:\n",
    "\n",
    "$$d\\approx R\\left(2\\frac{\\rho_M}{\\rho_m}\\right)^\\frac{1}{3}$$\n",
    "\n",
    "<div class=\"alert alert-block alert-success\">Calculate the rigid Roche limit for Pan and add another dashed circle to the plot to show the limit:</div>"
   ]
  },
  {
   "cell_type": "code",
   "execution_count": null,
   "metadata": {},
   "outputs": [],
   "source": [
    "# Roche limit solid for Pan\n",
    "\n",
    "# Your code here:\n",
    "roche_pan_rigid = '''Your code here'''\n",
    "circle = Circle((0, 0), roche_pan_rigid, ls=':', color='darkgray', zorder=30, fc='None', alpha=1)\n",
    "ax.add_artist(circle)\n",
    "\n",
    "fig"
   ]
  },
  {
   "cell_type": "markdown",
   "metadata": {},
   "source": [
    "Notice now that Pan is further out than the rigid Roche limit but within the fluid Roche limit. Several of Saturn's inner moons are in similar situations. They are also gradually moving towards Saturn as their orbits decay so we think they will break up soon and become ring material. \n",
    "\n",
    "<div class=\"alert alert-block alert-success\">Finally save your image:</div>"
   ]
  },
  {
   "cell_type": "code",
   "execution_count": null,
   "metadata": {},
   "outputs": [],
   "source": [
    "fig.savefig('my_saturn_rings.png', dpi=150, bbox_inches='tight')"
   ]
  },
  {
   "cell_type": "markdown",
   "metadata": {},
   "source": [
    "But what about the other gas giants? You can now attempt to plot their rings as well!  \n",
    "A few things to note - some rings of Uranus and Neptune have no outer ring radius. Instead the min column is actually the radius to the center of the ring. You'll have to use this and the width to work out the inner and outer radii for the rings. For Uranus the greek letters in the ring names can cause Matplotlib grief if not handled properly. You can use the column 'ring_name_simp' to render the ring label text which has latex/mathsmode strings for the names.\n",
    "\n",
    "Start with Jupiter which has a simple ring system before moving onto Neptune and Uranus. You can see what you're aiming for by loading the following image:"
   ]
  },
  {
   "cell_type": "code",
   "execution_count": null,
   "metadata": {},
   "outputs": [],
   "source": [
    "# run me\n",
    "Image('./figures/jupiter_rings.png')"
   ]
  },
  {
   "cell_type": "markdown",
   "metadata": {},
   "source": [
    "How do the rings of the other gas giants compare to Saturns?  \n",
    "I suggest you take a look at some of the references (especially the David Simpson webpage [here](https://caps.gsfc.nasa.gov/simpson/kingswood/rings/)) to learn more about the features in the rings including how gaps are formed and the effects of certain moons on the rings.\n",
    "\n",
    "## Challenge <a class=\"anchor\" id=\"Challenges\"></a>\n",
    "\n",
    "1) Make similar plots for the ring systems of Jupiter, Uranus, and Neptune.  \n",
    "2) Identify other moons inside the Roche limit (rigid or fluid) for each gas giant.  \n",
    "3) Scale the transparency of each ring so that a drop of alpha by .1 corresponds to an order of magnitude drop in od.      \n",
    "\n",
    "## References <a class=\"anchor\" id=\"References\"></a>\n",
    "\n",
    "Roche Limit - [https://en.wikipedia.org/wiki/Roche_limit](https://en.wikipedia.org/wiki/Roche_limit)  \n",
    "David Simpson, The Rings of Saturn - [https://caps.gsfc.nasa.gov/simpson/kingswood/rings/](https://caps.gsfc.nasa.gov/simpson/kingswood/rings/)  \n",
    "C Porco et al. (2007) Saturn's Small Inner Satellites: Clues to Their Origins [http://ciclops.org/media/sp/2007/4691_10256_0.pdf](http://ciclops.org/media/sp/2007/4691_10256_0.pdf)  \n",
    "Matthew Hedman, Planetary Ring Dynamics - [https://www.eolss.net/Sample-Chapters/C01/E6-119-55-13.pdf](https://www.eolss.net/Sample-Chapters/C01/E6-119-55-13.pdf)  \n",
    "Sébastien Charnoz et al, Origin and Evolution of Saturn's Ring System - [Here](http://lasp.colorado.edu/~espoclass/ASTR_5835_Fall-2017-Review%20Chapters-Saturn/17-Origin%20and%20Evolution%20of%20Saturn%27s%20Ring%20System.pdf)\n",
    "\n",
    "Data from:  \n",
    "Ring-Moon Systems Node, SETI/NASA/JPL - [https://pds-rings.seti.org/](https://pds-rings.seti.org/)  \n",
    "\n",
    "## Acknowledgements\n",
    "\n",
    "Thanks to [Matthew M. Hedman](https://webpages.uidaho.edu/mhedman/) and [Larry Espocito](http://lasp.colorado.edu/~esposito/) for their help in locating data on planetary rings and satellites.\n",
    "\n",
    "## Sharing\n",
    "\n",
    "If you share, use or modify this activity in any way use the citation in this [txt file](https://github.com/astroDimitrios/Astronomy/blob/master/CITATION.txt).    \n",
    "Please contact me at astrodimitrios@gmail.com with any suggestions, mistakes found, or general questions about teaching astronomy with Python.\n",
    "\n",
    "© Dimitrios Theodorakis GNU General Public License v3.0 https://github.com/astroDimitrios/Astronomy "
   ]
  }
 ],
 "metadata": {
  "kernelspec": {
   "display_name": "Python 3",
   "language": "python",
   "name": "python3"
  },
  "language_info": {
   "codemirror_mode": {
    "name": "ipython",
    "version": 3
   },
   "file_extension": ".py",
   "mimetype": "text/x-python",
   "name": "python",
   "nbconvert_exporter": "python",
   "pygments_lexer": "ipython3",
   "version": "3.6.13"
  }
 },
 "nbformat": 4,
 "nbformat_minor": 4
}
